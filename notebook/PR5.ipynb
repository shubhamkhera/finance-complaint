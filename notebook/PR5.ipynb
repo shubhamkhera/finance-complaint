{
 "cells": [
  {
   "cell_type": "code",
   "execution_count": 1,
   "id": "7cd9b8f9",
   "metadata": {},
   "outputs": [],
   "source": [
    "def say_bye():\n",
    "    print(\"Bye!\")\n",
    "    \n",
    "def say_random():\n",
    "    print(\"Random\")\n",
    "    \n",
    "def say_hello():\n",
    "    print(\"=\"*20)\n",
    "    print(\"Hello!\")\n",
    "    print(\"=\"*20)"
   ]
  },
  {
   "cell_type": "code",
   "execution_count": 2,
   "id": "67d979af",
   "metadata": {},
   "outputs": [],
   "source": [
    "def pretty(func):\n",
    "    def wrapper():\n",
    "        print(\"=\"*20)\n",
    "        func()\n",
    "        print(\"=\"*20)\n",
    "        \n",
    "    return wrapper"
   ]
  },
  {
   "cell_type": "code",
   "execution_count": 9,
   "id": "dc080cd7",
   "metadata": {},
   "outputs": [
    {
     "data": {
      "text/plain": [
       "<function __main__.pretty.<locals>.wrapper()>"
      ]
     },
     "execution_count": 9,
     "metadata": {},
     "output_type": "execute_result"
    }
   ],
   "source": [
    "pretty(say_hello)"
   ]
  },
  {
   "cell_type": "code",
   "execution_count": 3,
   "id": "13c1e62b",
   "metadata": {},
   "outputs": [],
   "source": [
    "@pretty\n",
    "def say_amazin():\n",
    "    print(\"AMAZING!!\")"
   ]
  },
  {
   "cell_type": "code",
   "execution_count": 4,
   "id": "9e847b17",
   "metadata": {},
   "outputs": [
    {
     "name": "stdout",
     "output_type": "stream",
     "text": [
      "====================\n",
      "AMAZING!!\n",
      "====================\n"
     ]
    }
   ],
   "source": [
    "say_amazin()"
   ]
  },
  {
   "cell_type": "code",
   "execution_count": 15,
   "id": "26fbbda7",
   "metadata": {},
   "outputs": [],
   "source": [
    "def log_execution(func):\n",
    "    def wrapper(*args, **kwargs):\n",
    "        print(f\"{func.__name__} with arguments {args} and {kwargs}\")\n",
    "        result = func(*args, **kwargs)\n",
    "        print(f\"{func.__name__} has returned {result}\")\n",
    "        return result\n",
    "    return wrapper"
   ]
  },
  {
   "cell_type": "code",
   "execution_count": 16,
   "id": "98958894",
   "metadata": {},
   "outputs": [],
   "source": [
    "@log_execution\n",
    "def add(a,b):\n",
    "    return a+b"
   ]
  },
  {
   "cell_type": "code",
   "execution_count": 17,
   "id": "aee35e35",
   "metadata": {},
   "outputs": [
    {
     "name": "stdout",
     "output_type": "stream",
     "text": [
      "add with arguments (5, 3) and {}\n",
      "add has returned 8\n"
     ]
    },
    {
     "data": {
      "text/plain": [
       "8"
      ]
     },
     "execution_count": 17,
     "metadata": {},
     "output_type": "execute_result"
    }
   ],
   "source": [
    "add(5,3)"
   ]
  },
  {
   "cell_type": "markdown",
   "id": "cc1695a5",
   "metadata": {},
   "source": [
    "## Generators"
   ]
  },
  {
   "cell_type": "code",
   "execution_count": 18,
   "id": "bc72408c",
   "metadata": {},
   "outputs": [],
   "source": [
    "def simple_generators():\n",
    "    yield 1"
   ]
  },
  {
   "cell_type": "code",
   "execution_count": 19,
   "id": "e0acf322",
   "metadata": {},
   "outputs": [
    {
     "data": {
      "text/plain": [
       "<generator object simple_generators at 0x000001ADC05993C0>"
      ]
     },
     "execution_count": 19,
     "metadata": {},
     "output_type": "execute_result"
    }
   ],
   "source": [
    "simple_generators()"
   ]
  },
  {
   "cell_type": "code",
   "execution_count": null,
   "id": "d2dafda1",
   "metadata": {},
   "outputs": [],
   "source": []
  }
 ],
 "metadata": {
  "kernelspec": {
   "display_name": "Python 3 (ipykernel)",
   "language": "python",
   "name": "python3"
  },
  "language_info": {
   "codemirror_mode": {
    "name": "ipython",
    "version": 3
   },
   "file_extension": ".py",
   "mimetype": "text/x-python",
   "name": "python",
   "nbconvert_exporter": "python",
   "pygments_lexer": "ipython3",
   "version": "3.9.12"
  }
 },
 "nbformat": 4,
 "nbformat_minor": 5
}
