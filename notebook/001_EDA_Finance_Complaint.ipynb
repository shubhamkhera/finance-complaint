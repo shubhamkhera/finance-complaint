{
 "cells": [
  {
   "cell_type": "markdown",
   "id": "edb1f7b2",
   "metadata": {},
   "source": [
    "# Finance Complaint Project"
   ]
  },
  {
   "cell_type": "markdown",
   "id": "2d38095f",
   "metadata": {},
   "source": [
    "## Exploratory Data Analysis"
   ]
  },
  {
   "cell_type": "markdown",
   "id": "55020b6c",
   "metadata": {},
   "source": [
    "### Problem Statement\n",
    "\n",
    "The Consumer Financial Protection Bureau(CFPB) is a federal U.S. agency that acts as a mediator when disputes arise between financial institutions and consumers. Via a web form, consumers can send the agency a native of their dispute.\n",
    "\n",
    "This project was made using Natural Language Processing(NLP) with machine learning models to process the issue's text written in the complaint and other features in the dataset to predict if the customer will dispute or not\n",
    "\n",
    "**Industry use case**: An NLP + Machine Learning model would make the classification of whether the consumer will dispute with the company or not and thus helping the company to prioritize the complaint based on the prediction."
   ]
  },
  {
   "cell_type": "markdown",
   "id": "8d9125ac",
   "metadata": {},
   "source": [
    "### Step 1: Importing Required Librries"
   ]
  },
  {
   "cell_type": "code",
   "execution_count": 1,
   "id": "dc92ad6c",
   "metadata": {},
   "outputs": [],
   "source": [
    "import pandas as pd\n",
    "import numpy as np\n",
    "import matplotlib.pyplot as plt\n",
    "import seaborn as sns\n",
    "import plotly.express as px\n",
    "import warnings\n",
    "\n",
    "warnings.filterwarnings(\"ignore\")\n",
    "\n",
    "%matplotlib inline\n",
    "pd.set_option('display.max_columns', 50)"
   ]
  },
  {
   "cell_type": "markdown",
   "id": "1e3729ee",
   "metadata": {},
   "source": [
    "- **Most of the companoes even though they solved the issue and responded to both customer and CFPB they choose not to provide public response. That can be a reason why consumer disputed response data is not publicaly available. This justifies the N/A values in target column.**\n",
    "\n",
    "- **So while downloading the data N/A were removed**"
   ]
  },
  {
   "cell_type": "markdown",
   "id": "012a1d5c",
   "metadata": {},
   "source": [
    "### Step 2: Import the Parquet File as Pandas DataFrame"
   ]
  },
  {
   "cell_type": "code",
   "execution_count": 2,
   "id": "3b0fcac1",
   "metadata": {},
   "outputs": [],
   "source": [
    "# df = pd.read_csv(\"../../complaints.csv\")"
   ]
  },
  {
   "cell_type": "code",
   "execution_count": 3,
   "id": "2b569d39",
   "metadata": {},
   "outputs": [],
   "source": [
    "# df.shape"
   ]
  },
  {
   "cell_type": "code",
   "execution_count": 4,
   "id": "e3815785",
   "metadata": {},
   "outputs": [],
   "source": [
    "#df1 = pd.read_json(\"data/complaints.json\")"
   ]
  },
  {
   "cell_type": "code",
   "execution_count": 5,
   "id": "e5674d11",
   "metadata": {},
   "outputs": [],
   "source": [
    "# import json\n",
    "# import xml.etree.ElementTree as ET\n",
    "# # import xml.dom.minidom\n",
    "# import pandas as pd\n",
    "\n",
    "# with open(\"data/complaints.json\", \"r\") as json_file:\n",
    "#     json_data = json.load(json_file)\n",
    "\n",
    "# df1 = pd.DataFrame(json_data)\n",
    "\n",
    "# # Define the path for the output Parquet file\n",
    "# parquet_file_path = 'data/f_complaint.parquet'\n",
    "\n",
    "# # Write the DataFrame to a Parquet file\n",
    "# df1.to_parquet(parquet_file_path)\n",
    "\n",
    "# print(\"Parquet file has been created and data has been stored.\")"
   ]
  },
  {
   "cell_type": "code",
   "execution_count": 6,
   "id": "d589c1a8",
   "metadata": {},
   "outputs": [],
   "source": [
    "df_full = pd.read_parquet('data/f_complaint.parquet')"
   ]
  },
  {
   "cell_type": "markdown",
   "id": "33b3f933",
   "metadata": {},
   "source": [
    "**Show 5 sample records**"
   ]
  },
  {
   "cell_type": "code",
   "execution_count": 7,
   "id": "e6e4cbb4",
   "metadata": {},
   "outputs": [
    {
     "data": {
      "text/html": [
       "<div>\n",
       "<style scoped>\n",
       "    .dataframe tbody tr th:only-of-type {\n",
       "        vertical-align: middle;\n",
       "    }\n",
       "\n",
       "    .dataframe tbody tr th {\n",
       "        vertical-align: top;\n",
       "    }\n",
       "\n",
       "    .dataframe thead th {\n",
       "        text-align: right;\n",
       "    }\n",
       "</style>\n",
       "<table border=\"1\" class=\"dataframe\">\n",
       "  <thead>\n",
       "    <tr style=\"text-align: right;\">\n",
       "      <th></th>\n",
       "      <th>date_received</th>\n",
       "      <th>product</th>\n",
       "      <th>sub_product</th>\n",
       "      <th>issue</th>\n",
       "      <th>sub_issue</th>\n",
       "      <th>complaint_what_happened</th>\n",
       "      <th>company_public_response</th>\n",
       "      <th>company</th>\n",
       "      <th>state</th>\n",
       "      <th>zip_code</th>\n",
       "      <th>tags</th>\n",
       "      <th>consumer_consent_provided</th>\n",
       "      <th>submitted_via</th>\n",
       "      <th>date_sent_to_company</th>\n",
       "      <th>company_response</th>\n",
       "      <th>timely</th>\n",
       "      <th>consumer_disputed</th>\n",
       "      <th>complaint_id</th>\n",
       "    </tr>\n",
       "  </thead>\n",
       "  <tbody>\n",
       "    <tr>\n",
       "      <th>425434</th>\n",
       "      <td>2023-08-01</td>\n",
       "      <td>Checking or savings account</td>\n",
       "      <td>Checking account</td>\n",
       "      <td>Opening an account</td>\n",
       "      <td>Didn't receive terms that were advertised</td>\n",
       "      <td>Checking account was opened on XX/XX/XXXX with...</td>\n",
       "      <td>Company has responded to the consumer and the ...</td>\n",
       "      <td>CITIBANK, N.A.</td>\n",
       "      <td>MO</td>\n",
       "      <td>64151</td>\n",
       "      <td></td>\n",
       "      <td>Consent provided</td>\n",
       "      <td>Web</td>\n",
       "      <td>2023-08-01</td>\n",
       "      <td>Closed with monetary relief</td>\n",
       "      <td>Yes</td>\n",
       "      <td>N/A</td>\n",
       "      <td>7328545</td>\n",
       "    </tr>\n",
       "    <tr>\n",
       "      <th>2957370</th>\n",
       "      <td>2022-11-22</td>\n",
       "      <td>Credit reporting, credit repair services, or o...</td>\n",
       "      <td>Credit reporting</td>\n",
       "      <td>Improper use of your report</td>\n",
       "      <td>Credit inquiries on your report that you don't...</td>\n",
       "      <td></td>\n",
       "      <td>Company has responded to the consumer and the ...</td>\n",
       "      <td>TRANSUNION INTERMEDIATE HOLDINGS, INC.</td>\n",
       "      <td>MD</td>\n",
       "      <td>20657</td>\n",
       "      <td></td>\n",
       "      <td>Consent not provided</td>\n",
       "      <td>Web</td>\n",
       "      <td>2022-11-22</td>\n",
       "      <td>Closed with non-monetary relief</td>\n",
       "      <td>Yes</td>\n",
       "      <td>N/A</td>\n",
       "      <td>6235323</td>\n",
       "    </tr>\n",
       "    <tr>\n",
       "      <th>2128579</th>\n",
       "      <td>2023-11-23</td>\n",
       "      <td>Credit reporting or other personal consumer re...</td>\n",
       "      <td>Credit reporting</td>\n",
       "      <td>Incorrect information on your report</td>\n",
       "      <td>Information belongs to someone else</td>\n",
       "      <td></td>\n",
       "      <td>Company has responded to the consumer and the ...</td>\n",
       "      <td>TRANSUNION INTERMEDIATE HOLDINGS, INC.</td>\n",
       "      <td>FL</td>\n",
       "      <td>33178</td>\n",
       "      <td></td>\n",
       "      <td>Consent not provided</td>\n",
       "      <td>Web</td>\n",
       "      <td>2023-11-23</td>\n",
       "      <td>Closed with non-monetary relief</td>\n",
       "      <td>Yes</td>\n",
       "      <td>N/A</td>\n",
       "      <td>7897559</td>\n",
       "    </tr>\n",
       "    <tr>\n",
       "      <th>1320496</th>\n",
       "      <td>2024-03-03</td>\n",
       "      <td>Credit reporting or other personal consumer re...</td>\n",
       "      <td>Credit reporting</td>\n",
       "      <td>Incorrect information on your report</td>\n",
       "      <td>Information belongs to someone else</td>\n",
       "      <td></td>\n",
       "      <td>Company has responded to the consumer and the ...</td>\n",
       "      <td>Experian Information Solutions Inc.</td>\n",
       "      <td>FL</td>\n",
       "      <td>34746</td>\n",
       "      <td></td>\n",
       "      <td>Consent not provided</td>\n",
       "      <td>Web</td>\n",
       "      <td>2024-03-03</td>\n",
       "      <td>Closed with explanation</td>\n",
       "      <td>Yes</td>\n",
       "      <td>N/A</td>\n",
       "      <td>8464497</td>\n",
       "    </tr>\n",
       "    <tr>\n",
       "      <th>3276049</th>\n",
       "      <td>2021-10-11</td>\n",
       "      <td>Credit reporting, credit repair services, or o...</td>\n",
       "      <td>Credit reporting</td>\n",
       "      <td>Improper use of your report</td>\n",
       "      <td>Reporting company used your report improperly</td>\n",
       "      <td></td>\n",
       "      <td>Company has responded to the consumer and the ...</td>\n",
       "      <td>TRANSUNION INTERMEDIATE HOLDINGS, INC.</td>\n",
       "      <td>PA</td>\n",
       "      <td>19144</td>\n",
       "      <td></td>\n",
       "      <td>Consent not provided</td>\n",
       "      <td>Web</td>\n",
       "      <td>2021-10-11</td>\n",
       "      <td>Closed with explanation</td>\n",
       "      <td>Yes</td>\n",
       "      <td>N/A</td>\n",
       "      <td>4801148</td>\n",
       "    </tr>\n",
       "  </tbody>\n",
       "</table>\n",
       "</div>"
      ],
      "text/plain": [
       "        date_received                                            product  \\\n",
       "425434     2023-08-01                        Checking or savings account   \n",
       "2957370    2022-11-22  Credit reporting, credit repair services, or o...   \n",
       "2128579    2023-11-23  Credit reporting or other personal consumer re...   \n",
       "1320496    2024-03-03  Credit reporting or other personal consumer re...   \n",
       "3276049    2021-10-11  Credit reporting, credit repair services, or o...   \n",
       "\n",
       "              sub_product                                 issue  \\\n",
       "425434   Checking account                    Opening an account   \n",
       "2957370  Credit reporting           Improper use of your report   \n",
       "2128579  Credit reporting  Incorrect information on your report   \n",
       "1320496  Credit reporting  Incorrect information on your report   \n",
       "3276049  Credit reporting           Improper use of your report   \n",
       "\n",
       "                                                 sub_issue  \\\n",
       "425434           Didn't receive terms that were advertised   \n",
       "2957370  Credit inquiries on your report that you don't...   \n",
       "2128579                Information belongs to someone else   \n",
       "1320496                Information belongs to someone else   \n",
       "3276049      Reporting company used your report improperly   \n",
       "\n",
       "                                   complaint_what_happened  \\\n",
       "425434   Checking account was opened on XX/XX/XXXX with...   \n",
       "2957370                                                      \n",
       "2128579                                                      \n",
       "1320496                                                      \n",
       "3276049                                                      \n",
       "\n",
       "                                   company_public_response  \\\n",
       "425434   Company has responded to the consumer and the ...   \n",
       "2957370  Company has responded to the consumer and the ...   \n",
       "2128579  Company has responded to the consumer and the ...   \n",
       "1320496  Company has responded to the consumer and the ...   \n",
       "3276049  Company has responded to the consumer and the ...   \n",
       "\n",
       "                                        company state zip_code tags  \\\n",
       "425434                           CITIBANK, N.A.    MO    64151        \n",
       "2957370  TRANSUNION INTERMEDIATE HOLDINGS, INC.    MD    20657        \n",
       "2128579  TRANSUNION INTERMEDIATE HOLDINGS, INC.    FL    33178        \n",
       "1320496     Experian Information Solutions Inc.    FL    34746        \n",
       "3276049  TRANSUNION INTERMEDIATE HOLDINGS, INC.    PA    19144        \n",
       "\n",
       "        consumer_consent_provided submitted_via date_sent_to_company  \\\n",
       "425434           Consent provided           Web           2023-08-01   \n",
       "2957370      Consent not provided           Web           2022-11-22   \n",
       "2128579      Consent not provided           Web           2023-11-23   \n",
       "1320496      Consent not provided           Web           2024-03-03   \n",
       "3276049      Consent not provided           Web           2021-10-11   \n",
       "\n",
       "                        company_response timely consumer_disputed complaint_id  \n",
       "425434       Closed with monetary relief    Yes               N/A      7328545  \n",
       "2957370  Closed with non-monetary relief    Yes               N/A      6235323  \n",
       "2128579  Closed with non-monetary relief    Yes               N/A      7897559  \n",
       "1320496          Closed with explanation    Yes               N/A      8464497  \n",
       "3276049          Closed with explanation    Yes               N/A      4801148  "
      ]
     },
     "execution_count": 7,
     "metadata": {},
     "output_type": "execute_result"
    }
   ],
   "source": [
    "df_full.sample(5)"
   ]
  },
  {
   "cell_type": "code",
   "execution_count": 8,
   "id": "f72baa39",
   "metadata": {
    "scrolled": true
   },
   "outputs": [
    {
     "data": {
      "text/html": [
       "<div>\n",
       "<style scoped>\n",
       "    .dataframe tbody tr th:only-of-type {\n",
       "        vertical-align: middle;\n",
       "    }\n",
       "\n",
       "    .dataframe tbody tr th {\n",
       "        vertical-align: top;\n",
       "    }\n",
       "\n",
       "    .dataframe thead th {\n",
       "        text-align: right;\n",
       "    }\n",
       "</style>\n",
       "<table border=\"1\" class=\"dataframe\">\n",
       "  <thead>\n",
       "    <tr style=\"text-align: right;\">\n",
       "      <th></th>\n",
       "      <th>date_received</th>\n",
       "      <th>product</th>\n",
       "      <th>sub_product</th>\n",
       "      <th>issue</th>\n",
       "      <th>sub_issue</th>\n",
       "      <th>complaint_what_happened</th>\n",
       "      <th>company_public_response</th>\n",
       "      <th>company</th>\n",
       "      <th>state</th>\n",
       "      <th>zip_code</th>\n",
       "      <th>tags</th>\n",
       "      <th>consumer_consent_provided</th>\n",
       "      <th>submitted_via</th>\n",
       "      <th>date_sent_to_company</th>\n",
       "      <th>company_response</th>\n",
       "      <th>timely</th>\n",
       "      <th>consumer_disputed</th>\n",
       "      <th>complaint_id</th>\n",
       "    </tr>\n",
       "  </thead>\n",
       "  <tbody>\n",
       "    <tr>\n",
       "      <th>0</th>\n",
       "      <td>2024-07-10</td>\n",
       "      <td>Credit reporting or other personal consumer re...</td>\n",
       "      <td>Credit reporting</td>\n",
       "      <td>Incorrect information on your report</td>\n",
       "      <td>Account information incorrect</td>\n",
       "      <td></td>\n",
       "      <td></td>\n",
       "      <td>TRANSUNION INTERMEDIATE HOLDINGS, INC.</td>\n",
       "      <td>AR</td>\n",
       "      <td>72212</td>\n",
       "      <td></td>\n",
       "      <td></td>\n",
       "      <td>Web</td>\n",
       "      <td>2024-07-10</td>\n",
       "      <td>In progress</td>\n",
       "      <td>Yes</td>\n",
       "      <td>N/A</td>\n",
       "      <td>9478840</td>\n",
       "    </tr>\n",
       "    <tr>\n",
       "      <th>1</th>\n",
       "      <td>2024-07-10</td>\n",
       "      <td>Credit reporting or other personal consumer re...</td>\n",
       "      <td>Other personal consumer report</td>\n",
       "      <td>Incorrect information on your report</td>\n",
       "      <td>Old information reappears or never goes away</td>\n",
       "      <td></td>\n",
       "      <td></td>\n",
       "      <td>TRANSUNION INTERMEDIATE HOLDINGS, INC.</td>\n",
       "      <td>NJ</td>\n",
       "      <td>07047</td>\n",
       "      <td></td>\n",
       "      <td></td>\n",
       "      <td>Web</td>\n",
       "      <td>2024-07-10</td>\n",
       "      <td>In progress</td>\n",
       "      <td>Yes</td>\n",
       "      <td>N/A</td>\n",
       "      <td>9478827</td>\n",
       "    </tr>\n",
       "    <tr>\n",
       "      <th>2</th>\n",
       "      <td>2024-07-10</td>\n",
       "      <td>Credit card</td>\n",
       "      <td>General-purpose credit card or charge card</td>\n",
       "      <td>Incorrect information on your report</td>\n",
       "      <td>Account status incorrect</td>\n",
       "      <td></td>\n",
       "      <td></td>\n",
       "      <td>TRANSUNION INTERMEDIATE HOLDINGS, INC.</td>\n",
       "      <td>TX</td>\n",
       "      <td>79404</td>\n",
       "      <td></td>\n",
       "      <td></td>\n",
       "      <td>Web</td>\n",
       "      <td>2024-07-10</td>\n",
       "      <td>In progress</td>\n",
       "      <td>Yes</td>\n",
       "      <td>N/A</td>\n",
       "      <td>9478826</td>\n",
       "    </tr>\n",
       "    <tr>\n",
       "      <th>3</th>\n",
       "      <td>2024-07-10</td>\n",
       "      <td>Credit reporting or other personal consumer re...</td>\n",
       "      <td>Credit reporting</td>\n",
       "      <td>Problem with a company's investigation into an...</td>\n",
       "      <td>Investigation took more than 30 days</td>\n",
       "      <td></td>\n",
       "      <td></td>\n",
       "      <td>TRANSUNION INTERMEDIATE HOLDINGS, INC.</td>\n",
       "      <td>TX</td>\n",
       "      <td>77494</td>\n",
       "      <td></td>\n",
       "      <td></td>\n",
       "      <td>Web</td>\n",
       "      <td>2024-07-10</td>\n",
       "      <td>In progress</td>\n",
       "      <td>Yes</td>\n",
       "      <td>N/A</td>\n",
       "      <td>9478821</td>\n",
       "    </tr>\n",
       "    <tr>\n",
       "      <th>4</th>\n",
       "      <td>2024-07-10</td>\n",
       "      <td>Credit reporting or other personal consumer re...</td>\n",
       "      <td>Credit reporting</td>\n",
       "      <td>Improper use of your report</td>\n",
       "      <td>Reporting company used your report improperly</td>\n",
       "      <td></td>\n",
       "      <td></td>\n",
       "      <td>TRANSUNION INTERMEDIATE HOLDINGS, INC.</td>\n",
       "      <td>FL</td>\n",
       "      <td>33060</td>\n",
       "      <td></td>\n",
       "      <td></td>\n",
       "      <td>Web</td>\n",
       "      <td>2024-07-10</td>\n",
       "      <td>In progress</td>\n",
       "      <td>Yes</td>\n",
       "      <td>N/A</td>\n",
       "      <td>9478809</td>\n",
       "    </tr>\n",
       "  </tbody>\n",
       "</table>\n",
       "</div>"
      ],
      "text/plain": [
       "  date_received                                            product  \\\n",
       "0    2024-07-10  Credit reporting or other personal consumer re...   \n",
       "1    2024-07-10  Credit reporting or other personal consumer re...   \n",
       "2    2024-07-10                                        Credit card   \n",
       "3    2024-07-10  Credit reporting or other personal consumer re...   \n",
       "4    2024-07-10  Credit reporting or other personal consumer re...   \n",
       "\n",
       "                                  sub_product  \\\n",
       "0                            Credit reporting   \n",
       "1              Other personal consumer report   \n",
       "2  General-purpose credit card or charge card   \n",
       "3                            Credit reporting   \n",
       "4                            Credit reporting   \n",
       "\n",
       "                                               issue  \\\n",
       "0               Incorrect information on your report   \n",
       "1               Incorrect information on your report   \n",
       "2               Incorrect information on your report   \n",
       "3  Problem with a company's investigation into an...   \n",
       "4                        Improper use of your report   \n",
       "\n",
       "                                       sub_issue complaint_what_happened  \\\n",
       "0                  Account information incorrect                           \n",
       "1   Old information reappears or never goes away                           \n",
       "2                       Account status incorrect                           \n",
       "3           Investigation took more than 30 days                           \n",
       "4  Reporting company used your report improperly                           \n",
       "\n",
       "  company_public_response                                 company state  \\\n",
       "0                          TRANSUNION INTERMEDIATE HOLDINGS, INC.    AR   \n",
       "1                          TRANSUNION INTERMEDIATE HOLDINGS, INC.    NJ   \n",
       "2                          TRANSUNION INTERMEDIATE HOLDINGS, INC.    TX   \n",
       "3                          TRANSUNION INTERMEDIATE HOLDINGS, INC.    TX   \n",
       "4                          TRANSUNION INTERMEDIATE HOLDINGS, INC.    FL   \n",
       "\n",
       "  zip_code tags consumer_consent_provided submitted_via date_sent_to_company  \\\n",
       "0    72212                                          Web           2024-07-10   \n",
       "1    07047                                          Web           2024-07-10   \n",
       "2    79404                                          Web           2024-07-10   \n",
       "3    77494                                          Web           2024-07-10   \n",
       "4    33060                                          Web           2024-07-10   \n",
       "\n",
       "  company_response timely consumer_disputed complaint_id  \n",
       "0      In progress    Yes               N/A      9478840  \n",
       "1      In progress    Yes               N/A      9478827  \n",
       "2      In progress    Yes               N/A      9478826  \n",
       "3      In progress    Yes               N/A      9478821  \n",
       "4      In progress    Yes               N/A      9478809  "
      ]
     },
     "execution_count": 8,
     "metadata": {},
     "output_type": "execute_result"
    }
   ],
   "source": [
    "df_full.head()"
   ]
  },
  {
   "cell_type": "markdown",
   "id": "0163179f",
   "metadata": {},
   "source": [
    "**Shape of data**"
   ]
  },
  {
   "cell_type": "code",
   "execution_count": 9,
   "id": "5e036c96",
   "metadata": {},
   "outputs": [
    {
     "data": {
      "text/plain": [
       "(5630440, 18)"
      ]
     },
     "execution_count": 9,
     "metadata": {},
     "output_type": "execute_result"
    }
   ],
   "source": [
    "df_full.shape"
   ]
  },
  {
   "cell_type": "markdown",
   "id": "3c36c35f",
   "metadata": {},
   "source": [
    "**Unique Values in target column**"
   ]
  },
  {
   "cell_type": "code",
   "execution_count": 10,
   "id": "84876d8c",
   "metadata": {},
   "outputs": [
    {
     "data": {
      "text/plain": [
       "N/A    4862124\n",
       "No      619938\n",
       "Yes     148378\n",
       "Name: consumer_disputed, dtype: int64"
      ]
     },
     "execution_count": 10,
     "metadata": {},
     "output_type": "execute_result"
    }
   ],
   "source": [
    "df_full.consumer_disputed.value_counts()"
   ]
  },
  {
   "cell_type": "code",
   "execution_count": 11,
   "id": "c5457e2b",
   "metadata": {},
   "outputs": [
    {
     "data": {
      "text/plain": [
       "N/A    86.354246\n",
       "No     11.010472\n",
       "Yes     2.635283\n",
       "Name: consumer_disputed, dtype: float64"
      ]
     },
     "execution_count": 11,
     "metadata": {},
     "output_type": "execute_result"
    }
   ],
   "source": [
    "df_full.consumer_disputed.value_counts(normalize=True)*100"
   ]
  },
  {
   "cell_type": "markdown",
   "id": "0d602a16",
   "metadata": {},
   "source": [
    "**As we can see `complaint_what_happened` and `company_public_response` have several empty strings which can be converted to np.nan**"
   ]
  },
  {
   "cell_type": "code",
   "execution_count": 12,
   "id": "6a947869",
   "metadata": {},
   "outputs": [],
   "source": [
    "df_full.replace('', np.nan, inplace=True)"
   ]
  },
  {
   "cell_type": "markdown",
   "id": "a40212b8",
   "metadata": {},
   "source": [
    "**Summary of dataset**"
   ]
  },
  {
   "cell_type": "code",
   "execution_count": 13,
   "id": "1b294fb5",
   "metadata": {},
   "outputs": [
    {
     "data": {
      "text/html": [
       "<div>\n",
       "<style scoped>\n",
       "    .dataframe tbody tr th:only-of-type {\n",
       "        vertical-align: middle;\n",
       "    }\n",
       "\n",
       "    .dataframe tbody tr th {\n",
       "        vertical-align: top;\n",
       "    }\n",
       "\n",
       "    .dataframe thead th {\n",
       "        text-align: right;\n",
       "    }\n",
       "</style>\n",
       "<table border=\"1\" class=\"dataframe\">\n",
       "  <thead>\n",
       "    <tr style=\"text-align: right;\">\n",
       "      <th></th>\n",
       "      <th>count</th>\n",
       "      <th>unique</th>\n",
       "      <th>top</th>\n",
       "      <th>freq</th>\n",
       "    </tr>\n",
       "  </thead>\n",
       "  <tbody>\n",
       "    <tr>\n",
       "      <th>date_received</th>\n",
       "      <td>5630440</td>\n",
       "      <td>4606</td>\n",
       "      <td>2024-06-13</td>\n",
       "      <td>9245</td>\n",
       "    </tr>\n",
       "    <tr>\n",
       "      <th>product</th>\n",
       "      <td>5630440</td>\n",
       "      <td>21</td>\n",
       "      <td>Credit reporting, credit repair services, or o...</td>\n",
       "      <td>2163873</td>\n",
       "    </tr>\n",
       "    <tr>\n",
       "      <th>sub_product</th>\n",
       "      <td>5395145</td>\n",
       "      <td>86</td>\n",
       "      <td>Credit reporting</td>\n",
       "      <td>3496435</td>\n",
       "    </tr>\n",
       "    <tr>\n",
       "      <th>issue</th>\n",
       "      <td>5630434</td>\n",
       "      <td>178</td>\n",
       "      <td>Incorrect information on your report</td>\n",
       "      <td>1690614</td>\n",
       "    </tr>\n",
       "    <tr>\n",
       "      <th>sub_issue</th>\n",
       "      <td>4889008</td>\n",
       "      <td>272</td>\n",
       "      <td>Information belongs to someone else</td>\n",
       "      <td>1118757</td>\n",
       "    </tr>\n",
       "    <tr>\n",
       "      <th>complaint_what_happened</th>\n",
       "      <td>1959509</td>\n",
       "      <td>1561531</td>\n",
       "      <td>In accordance with the Fair Credit Reporting a...</td>\n",
       "      <td>9568</td>\n",
       "    </tr>\n",
       "    <tr>\n",
       "      <th>company_public_response</th>\n",
       "      <td>2726159</td>\n",
       "      <td>11</td>\n",
       "      <td>Company has responded to the consumer and the ...</td>\n",
       "      <td>2470787</td>\n",
       "    </tr>\n",
       "    <tr>\n",
       "      <th>company</th>\n",
       "      <td>5630440</td>\n",
       "      <td>7295</td>\n",
       "      <td>EQUIFAX, INC.</td>\n",
       "      <td>1203604</td>\n",
       "    </tr>\n",
       "    <tr>\n",
       "      <th>state</th>\n",
       "      <td>5583864</td>\n",
       "      <td>63</td>\n",
       "      <td>FL</td>\n",
       "      <td>686180</td>\n",
       "    </tr>\n",
       "    <tr>\n",
       "      <th>zip_code</th>\n",
       "      <td>5600214</td>\n",
       "      <td>33798</td>\n",
       "      <td>XXXXX</td>\n",
       "      <td>125624</td>\n",
       "    </tr>\n",
       "    <tr>\n",
       "      <th>tags</th>\n",
       "      <td>500925</td>\n",
       "      <td>3</td>\n",
       "      <td>Servicemember</td>\n",
       "      <td>296953</td>\n",
       "    </tr>\n",
       "    <tr>\n",
       "      <th>consumer_consent_provided</th>\n",
       "      <td>5334603</td>\n",
       "      <td>5</td>\n",
       "      <td>Consent not provided</td>\n",
       "      <td>2310308</td>\n",
       "    </tr>\n",
       "    <tr>\n",
       "      <th>submitted_via</th>\n",
       "      <td>5630440</td>\n",
       "      <td>7</td>\n",
       "      <td>Web</td>\n",
       "      <td>5072603</td>\n",
       "    </tr>\n",
       "    <tr>\n",
       "      <th>date_sent_to_company</th>\n",
       "      <td>5630440</td>\n",
       "      <td>4555</td>\n",
       "      <td>2024-06-13</td>\n",
       "      <td>9260</td>\n",
       "    </tr>\n",
       "    <tr>\n",
       "      <th>company_response</th>\n",
       "      <td>5630423</td>\n",
       "      <td>8</td>\n",
       "      <td>Closed with explanation</td>\n",
       "      <td>3623733</td>\n",
       "    </tr>\n",
       "    <tr>\n",
       "      <th>timely</th>\n",
       "      <td>5630440</td>\n",
       "      <td>2</td>\n",
       "      <td>Yes</td>\n",
       "      <td>5571177</td>\n",
       "    </tr>\n",
       "    <tr>\n",
       "      <th>consumer_disputed</th>\n",
       "      <td>5630440</td>\n",
       "      <td>3</td>\n",
       "      <td>N/A</td>\n",
       "      <td>4862124</td>\n",
       "    </tr>\n",
       "    <tr>\n",
       "      <th>complaint_id</th>\n",
       "      <td>5630440</td>\n",
       "      <td>5630440</td>\n",
       "      <td>9478840</td>\n",
       "      <td>1</td>\n",
       "    </tr>\n",
       "  </tbody>\n",
       "</table>\n",
       "</div>"
      ],
      "text/plain": [
       "                             count   unique  \\\n",
       "date_received              5630440     4606   \n",
       "product                    5630440       21   \n",
       "sub_product                5395145       86   \n",
       "issue                      5630434      178   \n",
       "sub_issue                  4889008      272   \n",
       "complaint_what_happened    1959509  1561531   \n",
       "company_public_response    2726159       11   \n",
       "company                    5630440     7295   \n",
       "state                      5583864       63   \n",
       "zip_code                   5600214    33798   \n",
       "tags                        500925        3   \n",
       "consumer_consent_provided  5334603        5   \n",
       "submitted_via              5630440        7   \n",
       "date_sent_to_company       5630440     4555   \n",
       "company_response           5630423        8   \n",
       "timely                     5630440        2   \n",
       "consumer_disputed          5630440        3   \n",
       "complaint_id               5630440  5630440   \n",
       "\n",
       "                                                                         top  \\\n",
       "date_received                                                     2024-06-13   \n",
       "product                    Credit reporting, credit repair services, or o...   \n",
       "sub_product                                                 Credit reporting   \n",
       "issue                                   Incorrect information on your report   \n",
       "sub_issue                                Information belongs to someone else   \n",
       "complaint_what_happened    In accordance with the Fair Credit Reporting a...   \n",
       "company_public_response    Company has responded to the consumer and the ...   \n",
       "company                                                        EQUIFAX, INC.   \n",
       "state                                                                     FL   \n",
       "zip_code                                                               XXXXX   \n",
       "tags                                                           Servicemember   \n",
       "consumer_consent_provided                               Consent not provided   \n",
       "submitted_via                                                            Web   \n",
       "date_sent_to_company                                              2024-06-13   \n",
       "company_response                                     Closed with explanation   \n",
       "timely                                                                   Yes   \n",
       "consumer_disputed                                                        N/A   \n",
       "complaint_id                                                         9478840   \n",
       "\n",
       "                              freq  \n",
       "date_received                 9245  \n",
       "product                    2163873  \n",
       "sub_product                3496435  \n",
       "issue                      1690614  \n",
       "sub_issue                  1118757  \n",
       "complaint_what_happened       9568  \n",
       "company_public_response    2470787  \n",
       "company                    1203604  \n",
       "state                       686180  \n",
       "zip_code                    125624  \n",
       "tags                        296953  \n",
       "consumer_consent_provided  2310308  \n",
       "submitted_via              5072603  \n",
       "date_sent_to_company          9260  \n",
       "company_response           3623733  \n",
       "timely                     5571177  \n",
       "consumer_disputed          4862124  \n",
       "complaint_id                     1  "
      ]
     },
     "execution_count": 13,
     "metadata": {},
     "output_type": "execute_result"
    }
   ],
   "source": [
    "df_full.describe().T"
   ]
  },
  {
   "cell_type": "code",
   "execution_count": 14,
   "id": "6c5414e4",
   "metadata": {},
   "outputs": [
    {
     "data": {
      "text/plain": [
       "768316"
      ]
     },
     "execution_count": 14,
     "metadata": {},
     "output_type": "execute_result"
    }
   ],
   "source": [
    "619938+148378"
   ]
  },
  {
   "cell_type": "code",
   "execution_count": 15,
   "id": "9dd0e281",
   "metadata": {},
   "outputs": [],
   "source": [
    "df = df_full[df_full.consumer_disputed != 'N/A']"
   ]
  },
  {
   "cell_type": "code",
   "execution_count": 16,
   "id": "865f9dbb",
   "metadata": {},
   "outputs": [
    {
     "data": {
      "text/plain": [
       "No     80.687894\n",
       "Yes    19.312106\n",
       "Name: consumer_disputed, dtype: float64"
      ]
     },
     "execution_count": 16,
     "metadata": {},
     "output_type": "execute_result"
    }
   ],
   "source": [
    "df.consumer_disputed.value_counts(normalize=True)*100"
   ]
  },
  {
   "cell_type": "code",
   "execution_count": 17,
   "id": "0ed7e1b8",
   "metadata": {},
   "outputs": [
    {
     "data": {
      "text/html": [
       "<div>\n",
       "<style scoped>\n",
       "    .dataframe tbody tr th:only-of-type {\n",
       "        vertical-align: middle;\n",
       "    }\n",
       "\n",
       "    .dataframe tbody tr th {\n",
       "        vertical-align: top;\n",
       "    }\n",
       "\n",
       "    .dataframe thead th {\n",
       "        text-align: right;\n",
       "    }\n",
       "</style>\n",
       "<table border=\"1\" class=\"dataframe\">\n",
       "  <thead>\n",
       "    <tr style=\"text-align: right;\">\n",
       "      <th></th>\n",
       "      <th>count</th>\n",
       "      <th>unique</th>\n",
       "      <th>top</th>\n",
       "      <th>freq</th>\n",
       "    </tr>\n",
       "  </thead>\n",
       "  <tbody>\n",
       "    <tr>\n",
       "      <th>date_received</th>\n",
       "      <td>768316</td>\n",
       "      <td>1970</td>\n",
       "      <td>2017-01-19</td>\n",
       "      <td>2070</td>\n",
       "    </tr>\n",
       "    <tr>\n",
       "      <th>product</th>\n",
       "      <td>768316</td>\n",
       "      <td>13</td>\n",
       "      <td>Mortgage</td>\n",
       "      <td>226885</td>\n",
       "    </tr>\n",
       "    <tr>\n",
       "      <th>sub_product</th>\n",
       "      <td>533157</td>\n",
       "      <td>50</td>\n",
       "      <td>Other mortgage</td>\n",
       "      <td>86631</td>\n",
       "    </tr>\n",
       "    <tr>\n",
       "      <th>issue</th>\n",
       "      <td>768316</td>\n",
       "      <td>99</td>\n",
       "      <td>Loan modification,collection,foreclosure</td>\n",
       "      <td>112306</td>\n",
       "    </tr>\n",
       "    <tr>\n",
       "      <th>sub_issue</th>\n",
       "      <td>312951</td>\n",
       "      <td>61</td>\n",
       "      <td>Account status</td>\n",
       "      <td>37057</td>\n",
       "    </tr>\n",
       "    <tr>\n",
       "      <th>complaint_what_happened</th>\n",
       "      <td>164011</td>\n",
       "      <td>160917</td>\n",
       "      <td>I am filing this complaint because Experian ha...</td>\n",
       "      <td>103</td>\n",
       "    </tr>\n",
       "    <tr>\n",
       "      <th>company_public_response</th>\n",
       "      <td>195709</td>\n",
       "      <td>10</td>\n",
       "      <td>Company has responded to the consumer and the ...</td>\n",
       "      <td>95588</td>\n",
       "    </tr>\n",
       "    <tr>\n",
       "      <th>company</th>\n",
       "      <td>768316</td>\n",
       "      <td>4280</td>\n",
       "      <td>BANK OF AMERICA, NATIONAL ASSOCIATION</td>\n",
       "      <td>65992</td>\n",
       "    </tr>\n",
       "    <tr>\n",
       "      <th>state</th>\n",
       "      <td>762666</td>\n",
       "      <td>62</td>\n",
       "      <td>CA</td>\n",
       "      <td>110612</td>\n",
       "    </tr>\n",
       "    <tr>\n",
       "      <th>zip_code</th>\n",
       "      <td>764459</td>\n",
       "      <td>28262</td>\n",
       "      <td>XXXXX</td>\n",
       "      <td>9692</td>\n",
       "    </tr>\n",
       "    <tr>\n",
       "      <th>tags</th>\n",
       "      <td>108479</td>\n",
       "      <td>3</td>\n",
       "      <td>Older American</td>\n",
       "      <td>61474</td>\n",
       "    </tr>\n",
       "    <tr>\n",
       "      <th>consumer_consent_provided</th>\n",
       "      <td>768278</td>\n",
       "      <td>5</td>\n",
       "      <td>N/A</td>\n",
       "      <td>470477</td>\n",
       "    </tr>\n",
       "    <tr>\n",
       "      <th>submitted_via</th>\n",
       "      <td>768316</td>\n",
       "      <td>6</td>\n",
       "      <td>Web</td>\n",
       "      <td>522946</td>\n",
       "    </tr>\n",
       "    <tr>\n",
       "      <th>date_sent_to_company</th>\n",
       "      <td>768316</td>\n",
       "      <td>2049</td>\n",
       "      <td>2017-01-19</td>\n",
       "      <td>1612</td>\n",
       "    </tr>\n",
       "    <tr>\n",
       "      <th>company_response</th>\n",
       "      <td>768316</td>\n",
       "      <td>7</td>\n",
       "      <td>Closed with explanation</td>\n",
       "      <td>577973</td>\n",
       "    </tr>\n",
       "    <tr>\n",
       "      <th>timely</th>\n",
       "      <td>768316</td>\n",
       "      <td>2</td>\n",
       "      <td>Yes</td>\n",
       "      <td>746962</td>\n",
       "    </tr>\n",
       "    <tr>\n",
       "      <th>consumer_disputed</th>\n",
       "      <td>768316</td>\n",
       "      <td>2</td>\n",
       "      <td>No</td>\n",
       "      <td>619938</td>\n",
       "    </tr>\n",
       "    <tr>\n",
       "      <th>complaint_id</th>\n",
       "      <td>768316</td>\n",
       "      <td>768316</td>\n",
       "      <td>28692</td>\n",
       "      <td>1</td>\n",
       "    </tr>\n",
       "  </tbody>\n",
       "</table>\n",
       "</div>"
      ],
      "text/plain": [
       "                            count  unique  \\\n",
       "date_received              768316    1970   \n",
       "product                    768316      13   \n",
       "sub_product                533157      50   \n",
       "issue                      768316      99   \n",
       "sub_issue                  312951      61   \n",
       "complaint_what_happened    164011  160917   \n",
       "company_public_response    195709      10   \n",
       "company                    768316    4280   \n",
       "state                      762666      62   \n",
       "zip_code                   764459   28262   \n",
       "tags                       108479       3   \n",
       "consumer_consent_provided  768278       5   \n",
       "submitted_via              768316       6   \n",
       "date_sent_to_company       768316    2049   \n",
       "company_response           768316       7   \n",
       "timely                     768316       2   \n",
       "consumer_disputed          768316       2   \n",
       "complaint_id               768316  768316   \n",
       "\n",
       "                                                                         top  \\\n",
       "date_received                                                     2017-01-19   \n",
       "product                                                             Mortgage   \n",
       "sub_product                                                   Other mortgage   \n",
       "issue                               Loan modification,collection,foreclosure   \n",
       "sub_issue                                                     Account status   \n",
       "complaint_what_happened    I am filing this complaint because Experian ha...   \n",
       "company_public_response    Company has responded to the consumer and the ...   \n",
       "company                                BANK OF AMERICA, NATIONAL ASSOCIATION   \n",
       "state                                                                     CA   \n",
       "zip_code                                                               XXXXX   \n",
       "tags                                                          Older American   \n",
       "consumer_consent_provided                                                N/A   \n",
       "submitted_via                                                            Web   \n",
       "date_sent_to_company                                              2017-01-19   \n",
       "company_response                                     Closed with explanation   \n",
       "timely                                                                   Yes   \n",
       "consumer_disputed                                                         No   \n",
       "complaint_id                                                           28692   \n",
       "\n",
       "                             freq  \n",
       "date_received                2070  \n",
       "product                    226885  \n",
       "sub_product                 86631  \n",
       "issue                      112306  \n",
       "sub_issue                   37057  \n",
       "complaint_what_happened       103  \n",
       "company_public_response     95588  \n",
       "company                     65992  \n",
       "state                      110612  \n",
       "zip_code                     9692  \n",
       "tags                        61474  \n",
       "consumer_consent_provided  470477  \n",
       "submitted_via              522946  \n",
       "date_sent_to_company         1612  \n",
       "company_response           577973  \n",
       "timely                     746962  \n",
       "consumer_disputed          619938  \n",
       "complaint_id                    1  "
      ]
     },
     "execution_count": 17,
     "metadata": {},
     "output_type": "execute_result"
    }
   ],
   "source": [
    "df.describe().T"
   ]
  },
  {
   "cell_type": "markdown",
   "id": "d7ab48bc",
   "metadata": {},
   "source": [
    "**Check Datatypes in dataset**"
   ]
  },
  {
   "cell_type": "code",
   "execution_count": 18,
   "id": "db35b8af",
   "metadata": {},
   "outputs": [
    {
     "name": "stdout",
     "output_type": "stream",
     "text": [
      "<class 'pandas.core.frame.DataFrame'>\n",
      "Int64Index: 768316 entries, 194 to 5630439\n",
      "Data columns (total 18 columns):\n",
      " #   Column                     Non-Null Count   Dtype \n",
      "---  ------                     --------------   ----- \n",
      " 0   date_received              768316 non-null  object\n",
      " 1   product                    768316 non-null  object\n",
      " 2   sub_product                533157 non-null  object\n",
      " 3   issue                      768316 non-null  object\n",
      " 4   sub_issue                  312951 non-null  object\n",
      " 5   complaint_what_happened    164011 non-null  object\n",
      " 6   company_public_response    195709 non-null  object\n",
      " 7   company                    768316 non-null  object\n",
      " 8   state                      762666 non-null  object\n",
      " 9   zip_code                   764459 non-null  object\n",
      " 10  tags                       108479 non-null  object\n",
      " 11  consumer_consent_provided  768278 non-null  object\n",
      " 12  submitted_via              768316 non-null  object\n",
      " 13  date_sent_to_company       768316 non-null  object\n",
      " 14  company_response           768316 non-null  object\n",
      " 15  timely                     768316 non-null  object\n",
      " 16  consumer_disputed          768316 non-null  object\n",
      " 17  complaint_id               768316 non-null  object\n",
      "dtypes: object(18)\n",
      "memory usage: 111.4+ MB\n"
     ]
    }
   ],
   "source": [
    "df.info()"
   ]
  },
  {
   "cell_type": "markdown",
   "id": "03f3f04b",
   "metadata": {},
   "source": [
    "df.isna().sum()"
   ]
  },
  {
   "cell_type": "code",
   "execution_count": 19,
   "id": "c428ecc8",
   "metadata": {},
   "outputs": [
    {
     "data": {
      "text/plain": [
       "date_received                      0\n",
       "product                            0\n",
       "sub_product                   235295\n",
       "issue                              6\n",
       "sub_issue                     741432\n",
       "complaint_what_happened      3670931\n",
       "company_public_response      2904281\n",
       "company                            0\n",
       "state                          46576\n",
       "zip_code                       30226\n",
       "tags                         5129515\n",
       "consumer_consent_provided     295837\n",
       "submitted_via                      0\n",
       "date_sent_to_company               0\n",
       "company_response                  17\n",
       "timely                             0\n",
       "consumer_disputed                  0\n",
       "complaint_id                       0\n",
       "dtype: int64"
      ]
     },
     "execution_count": 19,
     "metadata": {},
     "output_type": "execute_result"
    }
   ],
   "source": [
    "df_full.isna().sum()"
   ]
  },
  {
   "cell_type": "code",
   "execution_count": null,
   "id": "6d3d93b0",
   "metadata": {},
   "outputs": [],
   "source": []
  },
  {
   "cell_type": "code",
   "execution_count": null,
   "id": "8f555462",
   "metadata": {},
   "outputs": [],
   "source": []
  },
  {
   "cell_type": "code",
   "execution_count": null,
   "id": "54377382",
   "metadata": {},
   "outputs": [],
   "source": []
  },
  {
   "cell_type": "markdown",
   "id": "cae4311e",
   "metadata": {},
   "source": [
    "### Step 3: Exploring Data"
   ]
  },
  {
   "cell_type": "code",
   "execution_count": 20,
   "id": "e5fb4495",
   "metadata": {},
   "outputs": [
    {
     "name": "stdout",
     "output_type": "stream",
     "text": [
      "We have 0 numerical features: []\n",
      "We have 18 numerical features: ['date_received', 'product', 'sub_product', 'issue', 'sub_issue', 'complaint_what_happened', 'company_public_response', 'company', 'state', 'zip_code', 'tags', 'consumer_consent_provided', 'submitted_via', 'date_sent_to_company', 'company_response', 'timely', 'consumer_disputed', 'complaint_id']\n"
     ]
    }
   ],
   "source": [
    "# define numerical and categorical columns\n",
    "numerical_features = [feature for feature in df.columns if df[feature].dtype != 'O']\n",
    "categorical_features = [feature for feature in df.columns if df[feature].dtype == 'O']\n",
    "\n",
    "#print list of columns\n",
    "print(f\"We have {len(numerical_features)} numerical features: {numerical_features}\")\n",
    "print(f\"We have {len(categorical_features)} numerical features: {categorical_features}\")"
   ]
  },
  {
   "cell_type": "markdown",
   "id": "5a76fd0f",
   "metadata": {},
   "source": [
    "**Checking Null Values**"
   ]
  },
  {
   "cell_type": "code",
   "execution_count": 21,
   "id": "03ad568e",
   "metadata": {},
   "outputs": [
    {
     "data": {
      "text/html": [
       "<div>\n",
       "<style scoped>\n",
       "    .dataframe tbody tr th:only-of-type {\n",
       "        vertical-align: middle;\n",
       "    }\n",
       "\n",
       "    .dataframe tbody tr th {\n",
       "        vertical-align: top;\n",
       "    }\n",
       "\n",
       "    .dataframe thead th {\n",
       "        text-align: right;\n",
       "    }\n",
       "</style>\n",
       "<table border=\"1\" class=\"dataframe\">\n",
       "  <thead>\n",
       "    <tr style=\"text-align: right;\">\n",
       "      <th></th>\n",
       "      <th>0</th>\n",
       "    </tr>\n",
       "  </thead>\n",
       "  <tbody>\n",
       "    <tr>\n",
       "      <th>tags</th>\n",
       "      <td>91.103271</td>\n",
       "    </tr>\n",
       "    <tr>\n",
       "      <th>complaint_what_happened</th>\n",
       "      <td>65.197942</td>\n",
       "    </tr>\n",
       "    <tr>\n",
       "      <th>company_public_response</th>\n",
       "      <td>51.581777</td>\n",
       "    </tr>\n",
       "    <tr>\n",
       "      <th>sub_issue</th>\n",
       "      <td>13.168278</td>\n",
       "    </tr>\n",
       "    <tr>\n",
       "      <th>consumer_consent_provided</th>\n",
       "      <td>5.254243</td>\n",
       "    </tr>\n",
       "    <tr>\n",
       "      <th>sub_product</th>\n",
       "      <td>4.178981</td>\n",
       "    </tr>\n",
       "    <tr>\n",
       "      <th>state</th>\n",
       "      <td>0.827218</td>\n",
       "    </tr>\n",
       "    <tr>\n",
       "      <th>zip_code</th>\n",
       "      <td>0.536832</td>\n",
       "    </tr>\n",
       "    <tr>\n",
       "      <th>company_response</th>\n",
       "      <td>0.000302</td>\n",
       "    </tr>\n",
       "    <tr>\n",
       "      <th>issue</th>\n",
       "      <td>0.000107</td>\n",
       "    </tr>\n",
       "    <tr>\n",
       "      <th>date_sent_to_company</th>\n",
       "      <td>0.000000</td>\n",
       "    </tr>\n",
       "    <tr>\n",
       "      <th>consumer_disputed</th>\n",
       "      <td>0.000000</td>\n",
       "    </tr>\n",
       "    <tr>\n",
       "      <th>timely</th>\n",
       "      <td>0.000000</td>\n",
       "    </tr>\n",
       "    <tr>\n",
       "      <th>date_received</th>\n",
       "      <td>0.000000</td>\n",
       "    </tr>\n",
       "    <tr>\n",
       "      <th>submitted_via</th>\n",
       "      <td>0.000000</td>\n",
       "    </tr>\n",
       "    <tr>\n",
       "      <th>product</th>\n",
       "      <td>0.000000</td>\n",
       "    </tr>\n",
       "    <tr>\n",
       "      <th>company</th>\n",
       "      <td>0.000000</td>\n",
       "    </tr>\n",
       "    <tr>\n",
       "      <th>complaint_id</th>\n",
       "      <td>0.000000</td>\n",
       "    </tr>\n",
       "  </tbody>\n",
       "</table>\n",
       "</div>"
      ],
      "text/plain": [
       "                                   0\n",
       "tags                       91.103271\n",
       "complaint_what_happened    65.197942\n",
       "company_public_response    51.581777\n",
       "sub_issue                  13.168278\n",
       "consumer_consent_provided   5.254243\n",
       "sub_product                 4.178981\n",
       "state                       0.827218\n",
       "zip_code                    0.536832\n",
       "company_response            0.000302\n",
       "issue                       0.000107\n",
       "date_sent_to_company        0.000000\n",
       "consumer_disputed           0.000000\n",
       "timely                      0.000000\n",
       "date_received               0.000000\n",
       "submitted_via               0.000000\n",
       "product                     0.000000\n",
       "company                     0.000000\n",
       "complaint_id                0.000000"
      ]
     },
     "execution_count": 21,
     "metadata": {},
     "output_type": "execute_result"
    }
   ],
   "source": [
    "missing_data_full = df_full.isna().sum().div(df_full.shape[0]).mul(100).to_frame().sort_values(by=0, ascending = False)\n",
    "missing_data_full"
   ]
  },
  {
   "cell_type": "code",
   "execution_count": 22,
   "id": "014d3eb1",
   "metadata": {},
   "outputs": [
    {
     "data": {
      "text/html": [
       "<div>\n",
       "<style scoped>\n",
       "    .dataframe tbody tr th:only-of-type {\n",
       "        vertical-align: middle;\n",
       "    }\n",
       "\n",
       "    .dataframe tbody tr th {\n",
       "        vertical-align: top;\n",
       "    }\n",
       "\n",
       "    .dataframe thead th {\n",
       "        text-align: right;\n",
       "    }\n",
       "</style>\n",
       "<table border=\"1\" class=\"dataframe\">\n",
       "  <thead>\n",
       "    <tr style=\"text-align: right;\">\n",
       "      <th></th>\n",
       "      <th>0</th>\n",
       "    </tr>\n",
       "  </thead>\n",
       "  <tbody>\n",
       "    <tr>\n",
       "      <th>tags</th>\n",
       "      <td>85.880940</td>\n",
       "    </tr>\n",
       "    <tr>\n",
       "      <th>complaint_what_happened</th>\n",
       "      <td>78.653184</td>\n",
       "    </tr>\n",
       "    <tr>\n",
       "      <th>company_public_response</th>\n",
       "      <td>74.527538</td>\n",
       "    </tr>\n",
       "    <tr>\n",
       "      <th>sub_issue</th>\n",
       "      <td>59.267931</td>\n",
       "    </tr>\n",
       "    <tr>\n",
       "      <th>sub_product</th>\n",
       "      <td>30.607068</td>\n",
       "    </tr>\n",
       "    <tr>\n",
       "      <th>state</th>\n",
       "      <td>0.735375</td>\n",
       "    </tr>\n",
       "    <tr>\n",
       "      <th>zip_code</th>\n",
       "      <td>0.502007</td>\n",
       "    </tr>\n",
       "    <tr>\n",
       "      <th>consumer_consent_provided</th>\n",
       "      <td>0.004946</td>\n",
       "    </tr>\n",
       "    <tr>\n",
       "      <th>date_sent_to_company</th>\n",
       "      <td>0.000000</td>\n",
       "    </tr>\n",
       "    <tr>\n",
       "      <th>consumer_disputed</th>\n",
       "      <td>0.000000</td>\n",
       "    </tr>\n",
       "    <tr>\n",
       "      <th>timely</th>\n",
       "      <td>0.000000</td>\n",
       "    </tr>\n",
       "    <tr>\n",
       "      <th>company_response</th>\n",
       "      <td>0.000000</td>\n",
       "    </tr>\n",
       "    <tr>\n",
       "      <th>date_received</th>\n",
       "      <td>0.000000</td>\n",
       "    </tr>\n",
       "    <tr>\n",
       "      <th>submitted_via</th>\n",
       "      <td>0.000000</td>\n",
       "    </tr>\n",
       "    <tr>\n",
       "      <th>product</th>\n",
       "      <td>0.000000</td>\n",
       "    </tr>\n",
       "    <tr>\n",
       "      <th>company</th>\n",
       "      <td>0.000000</td>\n",
       "    </tr>\n",
       "    <tr>\n",
       "      <th>issue</th>\n",
       "      <td>0.000000</td>\n",
       "    </tr>\n",
       "    <tr>\n",
       "      <th>complaint_id</th>\n",
       "      <td>0.000000</td>\n",
       "    </tr>\n",
       "  </tbody>\n",
       "</table>\n",
       "</div>"
      ],
      "text/plain": [
       "                                   0\n",
       "tags                       85.880940\n",
       "complaint_what_happened    78.653184\n",
       "company_public_response    74.527538\n",
       "sub_issue                  59.267931\n",
       "sub_product                30.607068\n",
       "state                       0.735375\n",
       "zip_code                    0.502007\n",
       "consumer_consent_provided   0.004946\n",
       "date_sent_to_company        0.000000\n",
       "consumer_disputed           0.000000\n",
       "timely                      0.000000\n",
       "company_response            0.000000\n",
       "date_received               0.000000\n",
       "submitted_via               0.000000\n",
       "product                     0.000000\n",
       "company                     0.000000\n",
       "issue                       0.000000\n",
       "complaint_id                0.000000"
      ]
     },
     "execution_count": 22,
     "metadata": {},
     "output_type": "execute_result"
    }
   ],
   "source": [
    "missing_data = df.isna().sum().div(df.shape[0]).mul(100).to_frame().sort_values(by=0, ascending = False)\n",
    "missing_data"
   ]
  },
  {
   "cell_type": "markdown",
   "id": "bb9dfcf9",
   "metadata": {},
   "source": [
    "**Dropping not improtant columns**"
   ]
  },
  {
   "cell_type": "code",
   "execution_count": 23,
   "id": "316db4d7",
   "metadata": {},
   "outputs": [],
   "source": [
    "drop_columns = ['tags', 'complaint_what_happened', 'company_public_response', 'sub_issue', 'sub_product', 'zip_code', 'complaint_id']\n",
    "df.drop(drop_columns, axis=1, inplace=True)"
   ]
  },
  {
   "cell_type": "markdown",
   "id": "fcbf871e",
   "metadata": {},
   "source": [
    "**Number of unique values in each column**"
   ]
  },
  {
   "cell_type": "code",
   "execution_count": 24,
   "id": "8e16000f",
   "metadata": {},
   "outputs": [
    {
     "name": "stdout",
     "output_type": "stream",
     "text": [
      "1. date_received: 1970\n",
      "2. product: 13\n",
      "3. issue: 99\n",
      "4. company: 4280\n",
      "5. state: 62\n",
      "6. consumer_consent_provided: 5\n",
      "7. submitted_via: 6\n",
      "8. date_sent_to_company: 2049\n",
      "9. company_response: 7\n",
      "10. timely: 2\n",
      "11. consumer_disputed: 2\n"
     ]
    }
   ],
   "source": [
    "count = 1\n",
    "for col in df.columns:\n",
    "    print(f\"{count}. {col}: {df[col].nunique()}\")\n",
    "    count += 1"
   ]
  },
  {
   "cell_type": "markdown",
   "id": "8a3ab87e",
   "metadata": {},
   "source": [
    "### Step 4: Visualization"
   ]
  },
  {
   "cell_type": "markdown",
   "id": "ecc6aa68",
   "metadata": {},
   "source": [
    "#### 4.1 Visualize the Target Feature (Customer Disputed)"
   ]
  },
  {
   "cell_type": "markdown",
   "id": "0011c778",
   "metadata": {},
   "source": [
    "- **Whether the consumer disputed the company's response.**"
   ]
  },
  {
   "cell_type": "code",
   "execution_count": 25,
   "id": "9a7ca211",
   "metadata": {},
   "outputs": [
    {
     "data": {
      "image/png": "[encoded data removed]",
      "text/plain": [
       "<Figure size 1080x576 with 1 Axes>"
      ]
     },
     "metadata": {},
     "output_type": "display_data"
    }
   ],
   "source": [
    "percentage = df.consumer_disputed.value_counts(normalize=True)*100\n",
    "label = [\"No\", \"Yes\"]\n",
    "\n",
    "#Plot Piechart with Plotly Library\n",
    "fig, ax = plt.subplots(figsize=(15, 8))\n",
    "explode = (0, 0.1)\n",
    "ax.pie(percentage, labels=label, startangle = 90,\n",
    "      autopct=\"%1.2f%%\", explode=explode, shadow=True)\n",
    "plt.show()"
   ]
  },
  {
   "cell_type": "markdown",
   "id": "855b3fcb",
   "metadata": {},
   "source": [
    "   - From the Pie chart it is clear that the Target Variable is Imbalanced\n",
    "  \n",
    "**What is imbalanced data?**\n",
    "\n",
    "- Imbalanced data are types of data where the target class has an uneven distribution of observations, i.e., Here the number of Not-stroke has more count than the number of stroke of the dataset."
   ]
  },
  {
   "cell_type": "markdown",
   "id": "c55678f1",
   "metadata": {},
   "source": [
    "### Products on which the complaints were made."
   ]
  },
  {
   "cell_type": "markdown",
   "id": "f071a256",
   "metadata": {},
   "source": [
    "- **The type of product the consumer identified in the complaint.**"
   ]
  },
  {
   "cell_type": "code",
   "execution_count": 26,
   "id": "66173205",
   "metadata": {},
   "outputs": [],
   "source": [
    "produt_percentage = df['product'].value_counts(normalize=True)*100"
   ]
  },
  {
   "cell_type": "code",
   "execution_count": 27,
   "id": "a608ce05",
   "metadata": {},
   "outputs": [
    {
     "data": {
      "text/html": [
       "<div>\n",
       "<style scoped>\n",
       "    .dataframe tbody tr th:only-of-type {\n",
       "        vertical-align: middle;\n",
       "    }\n",
       "\n",
       "    .dataframe tbody tr th {\n",
       "        vertical-align: top;\n",
       "    }\n",
       "\n",
       "    .dataframe thead th {\n",
       "        text-align: right;\n",
       "    }\n",
       "</style>\n",
       "<table border=\"1\" class=\"dataframe\">\n",
       "  <thead>\n",
       "    <tr style=\"text-align: right;\">\n",
       "      <th></th>\n",
       "      <th>product</th>\n",
       "    </tr>\n",
       "  </thead>\n",
       "  <tbody>\n",
       "    <tr>\n",
       "      <th>Mortgage</th>\n",
       "      <td>29.530167</td>\n",
       "    </tr>\n",
       "    <tr>\n",
       "      <th>Debt collection</th>\n",
       "      <td>18.965243</td>\n",
       "    </tr>\n",
       "    <tr>\n",
       "      <th>Credit reporting</th>\n",
       "      <td>18.277506</td>\n",
       "    </tr>\n",
       "    <tr>\n",
       "      <th>Credit card</th>\n",
       "      <td>11.608375</td>\n",
       "    </tr>\n",
       "    <tr>\n",
       "      <th>Bank account or service</th>\n",
       "      <td>11.219993</td>\n",
       "    </tr>\n",
       "    <tr>\n",
       "      <th>Student loan</th>\n",
       "      <td>4.233675</td>\n",
       "    </tr>\n",
       "    <tr>\n",
       "      <th>Consumer Loan</th>\n",
       "      <td>4.109507</td>\n",
       "    </tr>\n",
       "    <tr>\n",
       "      <th>Payday loan</th>\n",
       "      <td>0.721188</td>\n",
       "    </tr>\n",
       "    <tr>\n",
       "      <th>Money transfers</th>\n",
       "      <td>0.696849</td>\n",
       "    </tr>\n",
       "    <tr>\n",
       "      <th>Prepaid card</th>\n",
       "      <td>0.497061</td>\n",
       "    </tr>\n",
       "  </tbody>\n",
       "</table>\n",
       "</div>"
      ],
      "text/plain": [
       "                           product\n",
       "Mortgage                 29.530167\n",
       "Debt collection          18.965243\n",
       "Credit reporting         18.277506\n",
       "Credit card              11.608375\n",
       "Bank account or service  11.219993\n",
       "Student loan              4.233675\n",
       "Consumer Loan             4.109507\n",
       "Payday loan               0.721188\n",
       "Money transfers           0.696849\n",
       "Prepaid card              0.497061"
      ]
     },
     "execution_count": 27,
     "metadata": {},
     "output_type": "execute_result"
    }
   ],
   "source": [
    "# Percentage of each Top 10 product\n",
    "produt_percentage.to_frame()[0:10]"
   ]
  },
  {
   "cell_type": "markdown",
   "id": "f31e911d",
   "metadata": {},
   "source": [
    "**Visualizing product percentage in a pie chart**"
   ]
  },
  {
   "cell_type": "code",
   "execution_count": 28,
   "id": "6a703eb6",
   "metadata": {},
   "outputs": [
    {
     "data": {
      "image/png": "[encoded data removed]",
      "text/plain": [
       "<Figure size 1296x360 with 1 Axes>"
      ]
     },
     "metadata": {},
     "output_type": "display_data"
    }
   ],
   "source": [
    "product_labels = produt_percentage.index\n",
    "\n",
    "#Plot Piechart with Plotly Library\n",
    "fig, ax = plt.subplots(figsize=(18, 5))\n",
    "patches, texts = ax.pie(produt_percentage, startangle=90, shadow=True, radius= 1.2)\n",
    "plt.legend(patches, product_labels, loc='best', bbox_to_anchor=(0.1,1.), fontsize=14)\n",
    "plt.show()"
   ]
  },
  {
   "cell_type": "code",
   "execution_count": 29,
   "id": "f045a202",
   "metadata": {},
   "outputs": [
    {
     "data": {
      "image/png": "[encoded data removed]",
      "text/plain": [
       "<Figure size 1440x720 with 1 Axes>"
      ]
     },
     "metadata": {},
     "output_type": "display_data"
    }
   ],
   "source": [
    "#Plot Piechart with Plotly Library\n",
    "fig, ax = plt.subplots(figsize=(20, 10))\n",
    "ax.pie(produt_percentage, labels=product_labels, startangle = 90,\n",
    "      autopct=\"%1.1f%%\", shadow=False, rotatelabels=True)\n",
    "plt.show()"
   ]
  },
  {
   "cell_type": "code",
   "execution_count": null,
   "id": "c0d75068",
   "metadata": {},
   "outputs": [],
   "source": []
  },
  {
   "cell_type": "code",
   "execution_count": 30,
   "id": "939b2b99",
   "metadata": {},
   "outputs": [
    {
     "data": {
      "text/html": [
       "<div>\n",
       "<style scoped>\n",
       "    .dataframe tbody tr th:only-of-type {\n",
       "        vertical-align: middle;\n",
       "    }\n",
       "\n",
       "    .dataframe tbody tr th {\n",
       "        vertical-align: top;\n",
       "    }\n",
       "\n",
       "    .dataframe thead th {\n",
       "        text-align: right;\n",
       "    }\n",
       "</style>\n",
       "<table border=\"1\" class=\"dataframe\">\n",
       "  <thead>\n",
       "    <tr style=\"text-align: right;\">\n",
       "      <th></th>\n",
       "      <th>state</th>\n",
       "    </tr>\n",
       "  </thead>\n",
       "  <tbody>\n",
       "    <tr>\n",
       "      <th>CA</th>\n",
       "      <td>14.503334</td>\n",
       "    </tr>\n",
       "    <tr>\n",
       "      <th>FL</th>\n",
       "      <td>9.648391</td>\n",
       "    </tr>\n",
       "    <tr>\n",
       "      <th>TX</th>\n",
       "      <td>7.788337</td>\n",
       "    </tr>\n",
       "    <tr>\n",
       "      <th>NY</th>\n",
       "      <td>6.887681</td>\n",
       "    </tr>\n",
       "    <tr>\n",
       "      <th>GA</th>\n",
       "      <td>4.751490</td>\n",
       "    </tr>\n",
       "    <tr>\n",
       "      <th>...</th>\n",
       "      <td>...</td>\n",
       "    </tr>\n",
       "    <tr>\n",
       "      <th>MP</th>\n",
       "      <td>0.004065</td>\n",
       "    </tr>\n",
       "    <tr>\n",
       "      <th>MH</th>\n",
       "      <td>0.003934</td>\n",
       "    </tr>\n",
       "    <tr>\n",
       "      <th>AS</th>\n",
       "      <td>0.003278</td>\n",
       "    </tr>\n",
       "    <tr>\n",
       "      <th>AA</th>\n",
       "      <td>0.001705</td>\n",
       "    </tr>\n",
       "    <tr>\n",
       "      <th>PW</th>\n",
       "      <td>0.001705</td>\n",
       "    </tr>\n",
       "  </tbody>\n",
       "</table>\n",
       "<p>62 rows × 1 columns</p>\n",
       "</div>"
      ],
      "text/plain": [
       "        state\n",
       "CA  14.503334\n",
       "FL   9.648391\n",
       "TX   7.788337\n",
       "NY   6.887681\n",
       "GA   4.751490\n",
       "..        ...\n",
       "MP   0.004065\n",
       "MH   0.003934\n",
       "AS   0.003278\n",
       "AA   0.001705\n",
       "PW   0.001705\n",
       "\n",
       "[62 rows x 1 columns]"
      ]
     },
     "execution_count": 30,
     "metadata": {},
     "output_type": "execute_result"
    }
   ],
   "source": [
    "top_states = df.state.value_counts(normalize=True)*100\n",
    "top_states.to_frame()"
   ]
  },
  {
   "cell_type": "code",
   "execution_count": 31,
   "id": "120d43c4",
   "metadata": {},
   "outputs": [
    {
     "data": {
      "image/png": "[encoded data removed]",
      "text/plain": [
       "<Figure size 1080x504 with 1 Axes>"
      ]
     },
     "metadata": {
      "needs_background": "light"
     },
     "output_type": "display_data"
    }
   ],
   "source": [
    "plt.subplots(figsize=(15,7))\n",
    "top_states.plot(kind='bar', color='r')\n",
    "plt.show()"
   ]
  },
  {
   "cell_type": "code",
   "execution_count": 32,
   "id": "834e3609",
   "metadata": {},
   "outputs": [
    {
     "data": {
      "image/png": "[encoded data removed]",
      "text/plain": [
       "<Figure size 1080x504 with 1 Axes>"
      ]
     },
     "metadata": {
      "needs_background": "light"
     },
     "output_type": "display_data"
    }
   ],
   "source": [
    "plt.subplots(figsize=(15,7))\n",
    "top_states[:10].plot(kind='bar', color='r')\n",
    "plt.show()"
   ]
  },
  {
   "cell_type": "markdown",
   "id": "4c772155",
   "metadata": {},
   "source": [
    "**Insights:**\n",
    "- California(CA) has the heighest number of complaints registered which is 14.4% of the total complaints\n",
    "- Then Followed by Florida with 9.6%"
   ]
  },
  {
   "cell_type": "markdown",
   "id": "5fcbb2cd",
   "metadata": {},
   "source": [
    "#### Company's Response and its effect on the Target Feature"
   ]
  },
  {
   "cell_type": "markdown",
   "id": "78cf1fd0",
   "metadata": {},
   "source": [
    "- The company's mandatory response for the particular complaint"
   ]
  },
  {
   "cell_type": "code",
   "execution_count": 33,
   "id": "30f63bd0",
   "metadata": {},
   "outputs": [
    {
     "data": {
      "text/html": [
       "<div>\n",
       "<style scoped>\n",
       "    .dataframe tbody tr th:only-of-type {\n",
       "        vertical-align: middle;\n",
       "    }\n",
       "\n",
       "    .dataframe tbody tr th {\n",
       "        vertical-align: top;\n",
       "    }\n",
       "\n",
       "    .dataframe thead th {\n",
       "        text-align: right;\n",
       "    }\n",
       "</style>\n",
       "<table border=\"1\" class=\"dataframe\">\n",
       "  <thead>\n",
       "    <tr style=\"text-align: right;\">\n",
       "      <th></th>\n",
       "      <th></th>\n",
       "      <th>consumer_disputed</th>\n",
       "    </tr>\n",
       "    <tr>\n",
       "      <th>company_response</th>\n",
       "      <th>consumer_disputed</th>\n",
       "      <th></th>\n",
       "    </tr>\n",
       "  </thead>\n",
       "  <tbody>\n",
       "    <tr>\n",
       "      <th rowspan=\"2\" valign=\"top\">Closed</th>\n",
       "      <th>No</th>\n",
       "      <td>79.416274</td>\n",
       "    </tr>\n",
       "    <tr>\n",
       "      <th>Yes</th>\n",
       "      <td>20.583726</td>\n",
       "    </tr>\n",
       "    <tr>\n",
       "      <th rowspan=\"2\" valign=\"top\">Closed with explanation</th>\n",
       "      <th>No</th>\n",
       "      <td>78.771500</td>\n",
       "    </tr>\n",
       "    <tr>\n",
       "      <th>Yes</th>\n",
       "      <td>21.228500</td>\n",
       "    </tr>\n",
       "    <tr>\n",
       "      <th rowspan=\"2\" valign=\"top\">Closed with monetary relief</th>\n",
       "      <th>No</th>\n",
       "      <td>89.415405</td>\n",
       "    </tr>\n",
       "    <tr>\n",
       "      <th>Yes</th>\n",
       "      <td>10.584595</td>\n",
       "    </tr>\n",
       "    <tr>\n",
       "      <th rowspan=\"2\" valign=\"top\">Closed with non-monetary relief</th>\n",
       "      <th>No</th>\n",
       "      <td>88.370777</td>\n",
       "    </tr>\n",
       "    <tr>\n",
       "      <th>Yes</th>\n",
       "      <td>11.629223</td>\n",
       "    </tr>\n",
       "    <tr>\n",
       "      <th rowspan=\"2\" valign=\"top\">Closed with relief</th>\n",
       "      <th>No</th>\n",
       "      <td>86.651584</td>\n",
       "    </tr>\n",
       "    <tr>\n",
       "      <th>Yes</th>\n",
       "      <td>13.348416</td>\n",
       "    </tr>\n",
       "    <tr>\n",
       "      <th rowspan=\"2\" valign=\"top\">Closed without relief</th>\n",
       "      <th>No</th>\n",
       "      <td>73.074771</td>\n",
       "    </tr>\n",
       "    <tr>\n",
       "      <th>Yes</th>\n",
       "      <td>26.925229</td>\n",
       "    </tr>\n",
       "    <tr>\n",
       "      <th rowspan=\"2\" valign=\"top\">Untimely response</th>\n",
       "      <th>No</th>\n",
       "      <td>99.927061</td>\n",
       "    </tr>\n",
       "    <tr>\n",
       "      <th>Yes</th>\n",
       "      <td>0.072939</td>\n",
       "    </tr>\n",
       "  </tbody>\n",
       "</table>\n",
       "</div>"
      ],
      "text/plain": [
       "                                                   consumer_disputed\n",
       "company_response                consumer_disputed                   \n",
       "Closed                          No                         79.416274\n",
       "                                Yes                        20.583726\n",
       "Closed with explanation         No                         78.771500\n",
       "                                Yes                        21.228500\n",
       "Closed with monetary relief     No                         89.415405\n",
       "                                Yes                        10.584595\n",
       "Closed with non-monetary relief No                         88.370777\n",
       "                                Yes                        11.629223\n",
       "Closed with relief              No                         86.651584\n",
       "                                Yes                        13.348416\n",
       "Closed without relief           No                         73.074771\n",
       "                                Yes                        26.925229\n",
       "Untimely response               No                         99.927061\n",
       "                                Yes                         0.072939"
      ]
     },
     "execution_count": 33,
     "metadata": {},
     "output_type": "execute_result"
    }
   ],
   "source": [
    "df.groupby(\"company_response\")[\"consumer_disputed\"].value_counts(normalize=True).to_frame()*100"
   ]
  },
  {
   "cell_type": "markdown",
   "id": "913e73ec",
   "metadata": {},
   "source": [
    "**Proportion of consumer who has disputed and COmpany's response**"
   ]
  },
  {
   "cell_type": "code",
   "execution_count": 34,
   "id": "f654cbf9",
   "metadata": {},
   "outputs": [
    {
     "data": {
      "text/html": [
       "<div>\n",
       "<style scoped>\n",
       "    .dataframe tbody tr th:only-of-type {\n",
       "        vertical-align: middle;\n",
       "    }\n",
       "\n",
       "    .dataframe tbody tr th {\n",
       "        vertical-align: top;\n",
       "    }\n",
       "\n",
       "    .dataframe thead th {\n",
       "        text-align: right;\n",
       "    }\n",
       "</style>\n",
       "<table border=\"1\" class=\"dataframe\">\n",
       "  <thead>\n",
       "    <tr style=\"text-align: right;\">\n",
       "      <th></th>\n",
       "      <th>company_response</th>\n",
       "    </tr>\n",
       "  </thead>\n",
       "  <tbody>\n",
       "    <tr>\n",
       "      <th>Closed with explanation</th>\n",
       "      <td>82.690830</td>\n",
       "    </tr>\n",
       "    <tr>\n",
       "      <th>Closed with non-monetary relief</th>\n",
       "      <td>7.479545</td>\n",
       "    </tr>\n",
       "    <tr>\n",
       "      <th>Closed with monetary relief</th>\n",
       "      <td>3.665638</td>\n",
       "    </tr>\n",
       "    <tr>\n",
       "      <th>Closed without relief</th>\n",
       "      <td>3.242394</td>\n",
       "    </tr>\n",
       "    <tr>\n",
       "      <th>Closed</th>\n",
       "      <td>2.443085</td>\n",
       "    </tr>\n",
       "    <tr>\n",
       "      <th>Closed with relief</th>\n",
       "      <td>0.477160</td>\n",
       "    </tr>\n",
       "    <tr>\n",
       "      <th>Untimely response</th>\n",
       "      <td>0.001348</td>\n",
       "    </tr>\n",
       "  </tbody>\n",
       "</table>\n",
       "</div>"
      ],
      "text/plain": [
       "                                 company_response\n",
       "Closed with explanation                 82.690830\n",
       "Closed with non-monetary relief          7.479545\n",
       "Closed with monetary relief              3.665638\n",
       "Closed without relief                    3.242394\n",
       "Closed                                   2.443085\n",
       "Closed with relief                       0.477160\n",
       "Untimely response                        0.001348"
      ]
     },
     "execution_count": 34,
     "metadata": {},
     "output_type": "execute_result"
    }
   ],
   "source": [
    "dispute_df = df.loc[df.consumer_disputed == 'Yes']\n",
    "dispute_df.company_response.value_counts(normalize=True).to_frame()*100"
   ]
  },
  {
   "cell_type": "markdown",
   "id": "3ef017cf",
   "metadata": {},
   "source": [
    "**Visualization**"
   ]
  },
  {
   "cell_type": "code",
   "execution_count": 35,
   "id": "317444cf",
   "metadata": {},
   "outputs": [
    {
     "data": {
      "image/png": "[encoded data removed]",
      "text/plain": [
       "<Figure size 1008x504 with 1 Axes>"
      ]
     },
     "metadata": {
      "needs_background": "light"
     },
     "output_type": "display_data"
    }
   ],
   "source": [
    "plt.subplots(figsize=(14,7))\n",
    "sns.countplot(x='company_response', hue='consumer_disputed', data=df, ec='black', palette=\"Set2_r\")\n",
    "plt.title(\"company_response v/s company_dispute\", weight=\"bold\", fontsize=20, pad=10)\n",
    "plt.ylabel(\"Dispute Count\", weight=\"bold\", fontsize=14)\n",
    "plt.xlabel(\"Response\", weight=\"bold\", fontsize=14)\n",
    "plt.xticks(rotation=20)\n",
    "plt.show()"
   ]
  },
  {
   "cell_type": "markdown",
   "id": "34779db7",
   "metadata": {},
   "source": [
    "**Insights:**\n",
    "- **The Year the CFPB recieved the complaint.**\n",
    "- As this is the imbalanced data visualizing only the data in which consumer has dispute on the company's response"
   ]
  },
  {
   "cell_type": "code",
   "execution_count": 36,
   "id": "a9c00606",
   "metadata": {},
   "outputs": [],
   "source": [
    "# create a copy of dispute consumer data\n",
    "viz_df = dispute_df.copy()\n",
    "viz_df['received_date'] = pd.to_datetime(viz_df['date_received']).dt.date\n",
    "viz_df['received_month'] = pd.to_datetime(viz_df['date_received']).dt.month\n",
    "viz_df['received_year'] = pd.to_datetime(viz_df['date_received']).dt.year"
   ]
  },
  {
   "cell_type": "code",
   "execution_count": 37,
   "id": "ad8fc415",
   "metadata": {},
   "outputs": [
    {
     "data": {
      "image/png": "[encoded data removed]",
      "text/plain": [
       "<Figure size 1008x504 with 1 Axes>"
      ]
     },
     "metadata": {
      "needs_background": "light"
     },
     "output_type": "display_data"
    }
   ],
   "source": [
    "plt.subplots(figsize=(14,7))\n",
    "sns.countplot(x='received_year', data=viz_df, ec='black', palette=\"Set2_r\")\n",
    "plt.title(\"Complaint Year and Disputed consumers count\", weight=\"bold\", fontsize=20, pad=10)\n",
    "plt.ylabel(\"Dispute Count\", weight=\"bold\", fontsize=14)\n",
    "plt.xlabel(\"Complaint's Year\", weight=\"bold\", fontsize=14)\n",
    "plt.xticks(rotation=45)\n",
    "plt.grid(axis='y')\n",
    "plt.show()"
   ]
  },
  {
   "cell_type": "markdown",
   "id": "b0602362",
   "metadata": {},
   "source": [
    "**Insights:**\n",
    "- Complaints were highest on 2016 and 2015\n",
    "- Complaints were Least on 2017 and 2011"
   ]
  },
  {
   "cell_type": "markdown",
   "id": "4b3175f3",
   "metadata": {},
   "source": [
    "### Finance Complaint Month and Disputed Consumer's Count\n",
    "\n",
    "- **The month the CFPB recieved the complaint.**\n",
    "\n",
    "**Map the Numerical months as month names**"
   ]
  },
  {
   "cell_type": "code",
   "execution_count": 38,
   "id": "9708040d",
   "metadata": {},
   "outputs": [
    {
     "data": {
      "text/html": [
       "<div>\n",
       "<style scoped>\n",
       "    .dataframe tbody tr th:only-of-type {\n",
       "        vertical-align: middle;\n",
       "    }\n",
       "\n",
       "    .dataframe tbody tr th {\n",
       "        vertical-align: top;\n",
       "    }\n",
       "\n",
       "    .dataframe thead th {\n",
       "        text-align: right;\n",
       "    }\n",
       "</style>\n",
       "<table border=\"1\" class=\"dataframe\">\n",
       "  <thead>\n",
       "    <tr style=\"text-align: right;\">\n",
       "      <th></th>\n",
       "      <th>date_received</th>\n",
       "      <th>product</th>\n",
       "      <th>issue</th>\n",
       "      <th>company</th>\n",
       "      <th>state</th>\n",
       "      <th>consumer_consent_provided</th>\n",
       "      <th>submitted_via</th>\n",
       "      <th>date_sent_to_company</th>\n",
       "      <th>company_response</th>\n",
       "      <th>timely</th>\n",
       "      <th>consumer_disputed</th>\n",
       "      <th>received_date</th>\n",
       "      <th>received_month</th>\n",
       "      <th>received_year</th>\n",
       "    </tr>\n",
       "  </thead>\n",
       "  <tbody>\n",
       "    <tr>\n",
       "      <th>913</th>\n",
       "      <td>2012-05-22</td>\n",
       "      <td>Mortgage</td>\n",
       "      <td>Loan modification,collection,foreclosure</td>\n",
       "      <td>JPMORGAN CHASE &amp; CO.</td>\n",
       "      <td>CA</td>\n",
       "      <td>N/A</td>\n",
       "      <td>Web</td>\n",
       "      <td>2012-05-30</td>\n",
       "      <td>Closed with explanation</td>\n",
       "      <td>Yes</td>\n",
       "      <td>Yes</td>\n",
       "      <td>2012-05-22</td>\n",
       "      <td>5</td>\n",
       "      <td>2012</td>\n",
       "    </tr>\n",
       "    <tr>\n",
       "      <th>13561</th>\n",
       "      <td>2012-11-01</td>\n",
       "      <td>Student loan</td>\n",
       "      <td>Problems when you are unable to pay</td>\n",
       "      <td>Navient Solutions, LLC.</td>\n",
       "      <td>OH</td>\n",
       "      <td>N/A</td>\n",
       "      <td>Web</td>\n",
       "      <td>2012-11-01</td>\n",
       "      <td>Closed with explanation</td>\n",
       "      <td>Yes</td>\n",
       "      <td>Yes</td>\n",
       "      <td>2012-11-01</td>\n",
       "      <td>11</td>\n",
       "      <td>2012</td>\n",
       "    </tr>\n",
       "    <tr>\n",
       "      <th>24541</th>\n",
       "      <td>2013-05-31</td>\n",
       "      <td>Credit card</td>\n",
       "      <td>Late fee</td>\n",
       "      <td>TD BANK US HOLDING COMPANY</td>\n",
       "      <td>AZ</td>\n",
       "      <td>N/A</td>\n",
       "      <td>Web</td>\n",
       "      <td>2013-06-03</td>\n",
       "      <td>Closed with explanation</td>\n",
       "      <td>Yes</td>\n",
       "      <td>Yes</td>\n",
       "      <td>2013-05-31</td>\n",
       "      <td>5</td>\n",
       "      <td>2013</td>\n",
       "    </tr>\n",
       "    <tr>\n",
       "      <th>24767</th>\n",
       "      <td>2012-03-13</td>\n",
       "      <td>Credit card</td>\n",
       "      <td>Collection practices</td>\n",
       "      <td>BANK OF AMERICA, NATIONAL ASSOCIATION</td>\n",
       "      <td>GA</td>\n",
       "      <td>N/A</td>\n",
       "      <td>Web</td>\n",
       "      <td>2012-03-14</td>\n",
       "      <td>Closed without relief</td>\n",
       "      <td>Yes</td>\n",
       "      <td>Yes</td>\n",
       "      <td>2012-03-13</td>\n",
       "      <td>3</td>\n",
       "      <td>2012</td>\n",
       "    </tr>\n",
       "    <tr>\n",
       "      <th>26739</th>\n",
       "      <td>2013-01-23</td>\n",
       "      <td>Mortgage</td>\n",
       "      <td>Loan modification,collection,foreclosure</td>\n",
       "      <td>BANK OF AMERICA, NATIONAL ASSOCIATION</td>\n",
       "      <td>MD</td>\n",
       "      <td>N/A</td>\n",
       "      <td>Web</td>\n",
       "      <td>2013-08-22</td>\n",
       "      <td>Closed with explanation</td>\n",
       "      <td>Yes</td>\n",
       "      <td>Yes</td>\n",
       "      <td>2013-01-23</td>\n",
       "      <td>1</td>\n",
       "      <td>2013</td>\n",
       "    </tr>\n",
       "  </tbody>\n",
       "</table>\n",
       "</div>"
      ],
      "text/plain": [
       "      date_received       product                                     issue  \\\n",
       "913      2012-05-22      Mortgage  Loan modification,collection,foreclosure   \n",
       "13561    2012-11-01  Student loan       Problems when you are unable to pay   \n",
       "24541    2013-05-31   Credit card                                  Late fee   \n",
       "24767    2012-03-13   Credit card                      Collection practices   \n",
       "26739    2013-01-23      Mortgage  Loan modification,collection,foreclosure   \n",
       "\n",
       "                                     company state consumer_consent_provided  \\\n",
       "913                     JPMORGAN CHASE & CO.    CA                       N/A   \n",
       "13561                Navient Solutions, LLC.    OH                       N/A   \n",
       "24541             TD BANK US HOLDING COMPANY    AZ                       N/A   \n",
       "24767  BANK OF AMERICA, NATIONAL ASSOCIATION    GA                       N/A   \n",
       "26739  BANK OF AMERICA, NATIONAL ASSOCIATION    MD                       N/A   \n",
       "\n",
       "      submitted_via date_sent_to_company         company_response timely  \\\n",
       "913             Web           2012-05-30  Closed with explanation    Yes   \n",
       "13561           Web           2012-11-01  Closed with explanation    Yes   \n",
       "24541           Web           2013-06-03  Closed with explanation    Yes   \n",
       "24767           Web           2012-03-14    Closed without relief    Yes   \n",
       "26739           Web           2013-08-22  Closed with explanation    Yes   \n",
       "\n",
       "      consumer_disputed received_date  received_month  received_year  \n",
       "913                 Yes    2012-05-22               5           2012  \n",
       "13561               Yes    2012-11-01              11           2012  \n",
       "24541               Yes    2013-05-31               5           2013  \n",
       "24767               Yes    2012-03-13               3           2012  \n",
       "26739               Yes    2013-01-23               1           2013  "
      ]
     },
     "execution_count": 38,
     "metadata": {},
     "output_type": "execute_result"
    }
   ],
   "source": [
    "viz_df.head()"
   ]
  },
  {
   "cell_type": "code",
   "execution_count": 39,
   "id": "eadf468e",
   "metadata": {},
   "outputs": [],
   "source": [
    "map_months = {\n",
    "        1: \"January\",\n",
    "        2: \"February\",\n",
    "        3: \"March\",\n",
    "        4: \"April\",\n",
    "        5: \"May\",\n",
    "        6: \"June\",\n",
    "        7: \"July\",\n",
    "        8: \"August\",\n",
    "        9: \"September\",\n",
    "        10: \"October\",\n",
    "        11: \"November\",\n",
    "        12: \"December\"\n",
    "    }\n",
    "\n",
    "viz_df = viz_df.replace({'received_month': map_months})"
   ]
  },
  {
   "cell_type": "markdown",
   "id": "540089d6",
   "metadata": {},
   "source": [
    "**Plot the months against the dispute data count**"
   ]
  },
  {
   "cell_type": "code",
   "execution_count": 40,
   "id": "8b9de4a5",
   "metadata": {},
   "outputs": [
    {
     "data": {
      "image/png": "[encoded data removed]",
      "text/plain": [
       "<Figure size 1152x504 with 1 Axes>"
      ]
     },
     "metadata": {
      "needs_background": "light"
     },
     "output_type": "display_data"
    }
   ],
   "source": [
    "months_order = [\n",
    "        \"January\",\n",
    "        \"February\",\n",
    "        \"March\",\n",
    "        \"April\",\n",
    "        \"May\",\n",
    "        \"June\",\n",
    "        \"July\",\n",
    "        \"August\",\n",
    "        \"September\",\n",
    "        \"October\",\n",
    "        \"November\",\n",
    "        \"December\"\n",
    "]\n",
    "plt.subplots(figsize=(16,7))\n",
    "sns.countplot(x='received_month', data=viz_df, ec='black', palette=\"rainbow\", order=months_order)\n",
    "plt.title(\"Complaint Month and Disputed consumers count\", weight=\"bold\", fontsize=20, pad=10)\n",
    "plt.ylabel(\"Dispute Count\", weight=\"bold\", fontsize=14)\n",
    "plt.xlabel(\"Complaint's Month\", weight=\"bold\", fontsize=14)\n",
    "plt.xticks(rotation=45)\n",
    "plt.grid(axis='y')\n",
    "plt.show()"
   ]
  },
  {
   "cell_type": "markdown",
   "id": "a8498be0",
   "metadata": {},
   "source": [
    "**Insights:**\n",
    "- Month of March had recieved more complaints than another month\n",
    "- Q1 of the year had more financial complaints"
   ]
  },
  {
   "cell_type": "code",
   "execution_count": 41,
   "id": "ad992b26",
   "metadata": {},
   "outputs": [
    {
     "data": {
      "text/html": [
       "<div>\n",
       "<style scoped>\n",
       "    .dataframe tbody tr th:only-of-type {\n",
       "        vertical-align: middle;\n",
       "    }\n",
       "\n",
       "    .dataframe tbody tr th {\n",
       "        vertical-align: top;\n",
       "    }\n",
       "\n",
       "    .dataframe thead th {\n",
       "        text-align: right;\n",
       "    }\n",
       "</style>\n",
       "<table border=\"1\" class=\"dataframe\">\n",
       "  <thead>\n",
       "    <tr style=\"text-align: right;\">\n",
       "      <th></th>\n",
       "      <th>date_received</th>\n",
       "      <th>product</th>\n",
       "      <th>issue</th>\n",
       "      <th>company</th>\n",
       "      <th>state</th>\n",
       "      <th>consumer_consent_provided</th>\n",
       "      <th>submitted_via</th>\n",
       "      <th>date_sent_to_company</th>\n",
       "      <th>company_response</th>\n",
       "      <th>timely</th>\n",
       "      <th>consumer_disputed</th>\n",
       "    </tr>\n",
       "  </thead>\n",
       "  <tbody>\n",
       "    <tr>\n",
       "      <th>194</th>\n",
       "      <td>2012-03-01</td>\n",
       "      <td>Mortgage</td>\n",
       "      <td>Loan modification,collection,foreclosure</td>\n",
       "      <td>Onity Group Inc.</td>\n",
       "      <td>MN</td>\n",
       "      <td>N/A</td>\n",
       "      <td>Referral</td>\n",
       "      <td>2012-06-01</td>\n",
       "      <td>Closed with explanation</td>\n",
       "      <td>Yes</td>\n",
       "      <td>No</td>\n",
       "    </tr>\n",
       "    <tr>\n",
       "      <th>378</th>\n",
       "      <td>2012-03-02</td>\n",
       "      <td>Credit card</td>\n",
       "      <td>Credit line increase/decrease</td>\n",
       "      <td>JPMORGAN CHASE &amp; CO.</td>\n",
       "      <td>IL</td>\n",
       "      <td>N/A</td>\n",
       "      <td>Referral</td>\n",
       "      <td>2012-10-25</td>\n",
       "      <td>Closed with explanation</td>\n",
       "      <td>Yes</td>\n",
       "      <td>No</td>\n",
       "    </tr>\n",
       "    <tr>\n",
       "      <th>825</th>\n",
       "      <td>2013-08-23</td>\n",
       "      <td>Mortgage</td>\n",
       "      <td>Loan modification,collection,foreclosure</td>\n",
       "      <td>Onity Group Inc.</td>\n",
       "      <td>TX</td>\n",
       "      <td>N/A</td>\n",
       "      <td>Web</td>\n",
       "      <td>2013-08-23</td>\n",
       "      <td>Closed with explanation</td>\n",
       "      <td>Yes</td>\n",
       "      <td>No</td>\n",
       "    </tr>\n",
       "    <tr>\n",
       "      <th>913</th>\n",
       "      <td>2012-05-22</td>\n",
       "      <td>Mortgage</td>\n",
       "      <td>Loan modification,collection,foreclosure</td>\n",
       "      <td>JPMORGAN CHASE &amp; CO.</td>\n",
       "      <td>CA</td>\n",
       "      <td>N/A</td>\n",
       "      <td>Web</td>\n",
       "      <td>2012-05-30</td>\n",
       "      <td>Closed with explanation</td>\n",
       "      <td>Yes</td>\n",
       "      <td>Yes</td>\n",
       "    </tr>\n",
       "    <tr>\n",
       "      <th>1240</th>\n",
       "      <td>2012-04-25</td>\n",
       "      <td>Mortgage</td>\n",
       "      <td>Application, originator, mortgage broker</td>\n",
       "      <td>BANK OF AMERICA, NATIONAL ASSOCIATION</td>\n",
       "      <td>MD</td>\n",
       "      <td>N/A</td>\n",
       "      <td>Referral</td>\n",
       "      <td>2012-04-25</td>\n",
       "      <td>Closed without relief</td>\n",
       "      <td>Yes</td>\n",
       "      <td>No</td>\n",
       "    </tr>\n",
       "  </tbody>\n",
       "</table>\n",
       "</div>"
      ],
      "text/plain": [
       "     date_received      product                                     issue  \\\n",
       "194     2012-03-01     Mortgage  Loan modification,collection,foreclosure   \n",
       "378     2012-03-02  Credit card             Credit line increase/decrease   \n",
       "825     2013-08-23     Mortgage  Loan modification,collection,foreclosure   \n",
       "913     2012-05-22     Mortgage  Loan modification,collection,foreclosure   \n",
       "1240    2012-04-25     Mortgage  Application, originator, mortgage broker   \n",
       "\n",
       "                                    company state consumer_consent_provided  \\\n",
       "194                        Onity Group Inc.    MN                       N/A   \n",
       "378                    JPMORGAN CHASE & CO.    IL                       N/A   \n",
       "825                        Onity Group Inc.    TX                       N/A   \n",
       "913                    JPMORGAN CHASE & CO.    CA                       N/A   \n",
       "1240  BANK OF AMERICA, NATIONAL ASSOCIATION    MD                       N/A   \n",
       "\n",
       "     submitted_via date_sent_to_company         company_response timely  \\\n",
       "194       Referral           2012-06-01  Closed with explanation    Yes   \n",
       "378       Referral           2012-10-25  Closed with explanation    Yes   \n",
       "825            Web           2013-08-23  Closed with explanation    Yes   \n",
       "913            Web           2012-05-30  Closed with explanation    Yes   \n",
       "1240      Referral           2012-04-25    Closed without relief    Yes   \n",
       "\n",
       "     consumer_disputed  \n",
       "194                 No  \n",
       "378                 No  \n",
       "825                 No  \n",
       "913                Yes  \n",
       "1240                No  "
      ]
     },
     "execution_count": 41,
     "metadata": {},
     "output_type": "execute_result"
    }
   ],
   "source": [
    "df.head()"
   ]
  },
  {
   "cell_type": "markdown",
   "id": "f2fbc3a8",
   "metadata": {},
   "source": [
    "### Complaint Submissions\n",
    "- How the complaint was submitted to the CFPB, for example, \"Web\" or \"Phone\""
   ]
  },
  {
   "cell_type": "code",
   "execution_count": 42,
   "id": "74b0cacf",
   "metadata": {},
   "outputs": [
    {
     "data": {
      "text/html": [
       "<div>\n",
       "<style scoped>\n",
       "    .dataframe tbody tr th:only-of-type {\n",
       "        vertical-align: middle;\n",
       "    }\n",
       "\n",
       "    .dataframe tbody tr th {\n",
       "        vertical-align: top;\n",
       "    }\n",
       "\n",
       "    .dataframe thead th {\n",
       "        text-align: right;\n",
       "    }\n",
       "</style>\n",
       "<table border=\"1\" class=\"dataframe\">\n",
       "  <thead>\n",
       "    <tr style=\"text-align: right;\">\n",
       "      <th></th>\n",
       "      <th>submitted_via</th>\n",
       "    </tr>\n",
       "  </thead>\n",
       "  <tbody>\n",
       "    <tr>\n",
       "      <th>Web</th>\n",
       "      <td>68.063922</td>\n",
       "    </tr>\n",
       "    <tr>\n",
       "      <th>Referral</th>\n",
       "      <td>17.341953</td>\n",
       "    </tr>\n",
       "    <tr>\n",
       "      <th>Phone</th>\n",
       "      <td>6.792257</td>\n",
       "    </tr>\n",
       "    <tr>\n",
       "      <th>Postal mail</th>\n",
       "      <td>6.334893</td>\n",
       "    </tr>\n",
       "    <tr>\n",
       "      <th>Fax</th>\n",
       "      <td>1.421681</td>\n",
       "    </tr>\n",
       "    <tr>\n",
       "      <th>Email</th>\n",
       "      <td>0.045294</td>\n",
       "    </tr>\n",
       "  </tbody>\n",
       "</table>\n",
       "</div>"
      ],
      "text/plain": [
       "             submitted_via\n",
       "Web              68.063922\n",
       "Referral         17.341953\n",
       "Phone             6.792257\n",
       "Postal mail       6.334893\n",
       "Fax               1.421681\n",
       "Email             0.045294"
      ]
     },
     "execution_count": 42,
     "metadata": {},
     "output_type": "execute_result"
    }
   ],
   "source": [
    "df.submitted_via.value_counts(normalize=True).to_frame()*100"
   ]
  },
  {
   "cell_type": "code",
   "execution_count": 43,
   "id": "5dc856de",
   "metadata": {},
   "outputs": [
    {
     "data": {
      "image/png": "[encoded data removed]",
      "text/plain": [
       "<Figure size 1152x504 with 1 Axes>"
      ]
     },
     "metadata": {
      "needs_background": "light"
     },
     "output_type": "display_data"
    }
   ],
   "source": [
    "plt.subplots(figsize=(16,7))\n",
    "sns.countplot(x='submitted_via',hue='consumer_disputed', data=df, ec='black', palette=\"Set2_r\")\n",
    "plt.title(\"Complaints Submitted via\", weight=\"bold\", fontsize=20, pad=10)\n",
    "plt.ylabel(\"Dispute Count\", weight=\"bold\", fontsize=14)\n",
    "plt.xlabel(\"Submitted via\", weight=\"bold\", fontsize=14)\n",
    "plt.xticks(rotation=45)\n",
    "plt.grid(axis='y')\n",
    "plt.show()"
   ]
  },
  {
   "cell_type": "markdown",
   "id": "54271bb8",
   "metadata": {},
   "source": [
    "**Insights:**\n",
    "- 68% of total complaints were submitted via Web.\n",
    "- Second most used platform to submit is Referral then followed by Phone"
   ]
  },
  {
   "cell_type": "markdown",
   "id": "cc0b91e4",
   "metadata": {},
   "source": [
    "### Timely response has any effect on Target column"
   ]
  },
  {
   "cell_type": "code",
   "execution_count": 44,
   "id": "233202d3",
   "metadata": {},
   "outputs": [
    {
     "data": {
      "image/png": "[encoded data removed]",
      "text/plain": [
       "<Figure size 1008x504 with 1 Axes>"
      ]
     },
     "metadata": {
      "needs_background": "light"
     },
     "output_type": "display_data"
    }
   ],
   "source": [
    "plt.subplots(figsize=(14,7))\n",
    "sns.countplot(x='timely',hue='consumer_disputed', data=df, ec='black', palette=\"vlag\")\n",
    "plt.title(\"Timely Response and its effect o Target column\", weight=\"bold\", fontsize=20, pad=10)\n",
    "plt.ylabel(\"Dispute Count\", weight=\"bold\", fontsize=14)\n",
    "plt.xlabel(\"Timely Response\", weight=\"bold\", fontsize=14)\n",
    "plt.grid(axis='y')\n",
    "plt.show()"
   ]
  },
  {
   "cell_type": "markdown",
   "id": "4157936b",
   "metadata": {},
   "source": [
    "**Insights:**\n",
    "- Most of the complaints which had timely response also had consumer disputed\n",
    "- No much impact on target column"
   ]
  },
  {
   "cell_type": "markdown",
   "id": "0cfdb802",
   "metadata": {},
   "source": [
    "### Consumer consent provided and its effect on Target column\n",
    "- Here consent provided columns is approval given by the consumer on publishing their complaints public"
   ]
  },
  {
   "cell_type": "code",
   "execution_count": 45,
   "id": "bee217ad",
   "metadata": {},
   "outputs": [
    {
     "data": {
      "image/png": "[encoded data removed]",
      "text/plain": [
       "<Figure size 1152x504 with 1 Axes>"
      ]
     },
     "metadata": {
      "needs_background": "light"
     },
     "output_type": "display_data"
    }
   ],
   "source": [
    "plt.subplots(figsize=(16,7))\n",
    "sns.countplot(x='consumer_consent_provided',hue='consumer_disputed', data=df, ec='black', palette=\"Spectral\")\n",
    "plt.title(\"Complaints consent provided vs Consumer Dispute\", weight=\"bold\", fontsize=20, pad=10)\n",
    "plt.ylabel(\"Dispute Count\", weight=\"bold\", fontsize=14)\n",
    "plt.xlabel(\"Content Provided\", weight=\"bold\", fontsize=14)\n",
    "plt.xticks(rotation=45)\n",
    "plt.grid(axis='y')\n",
    "plt.show()"
   ]
  },
  {
   "cell_type": "markdown",
   "id": "9325ea89",
   "metadata": {},
   "source": [
    "**Insights:**\n",
    "- Most of the Record here is not available `N/A`.\n",
    "- Consent Provided has more impact on the target variable, because most consumer wanted complaints to be public."
   ]
  },
  {
   "cell_type": "markdown",
   "id": "cce62dd5",
   "metadata": {},
   "source": [
    "## Final Report\n",
    "\n",
    "- **Dataset is collected from consumer finance US government website**\n",
    "- **`tags`, `complaint_what_happened`, `company_public_response`, `sub_issue`, `sub_product`, `zip_code`, `complaint_id` are the columns which can be removed as they are redundant or does not help the model.**\n",
    "- **`company` its a name column can be removed as it contains 4284 unique values, which cannot be used in model.**\n",
    "- **new features can be created `days_to_forward_complaint` which is the difference between `date_sent_to_company`-`date_received`**\n",
    "- **`issue` column is a text column, so text processing can be done and vectorized by tfidf for the model training.**\n",
    "- **Null values can be imputed with mode.**"
   ]
  },
  {
   "cell_type": "code",
   "execution_count": null,
   "id": "b5eb4e9b",
   "metadata": {},
   "outputs": [],
   "source": []
  }
 ],
 "metadata": {
  "kernelspec": {
   "display_name": "Python 3 (ipykernel)",
   "language": "python",
   "name": "python3"
  },
  "language_info": {
   "codemirror_mode": {
    "name": "ipython",
    "version": 3
   },
   "file_extension": ".py",
   "mimetype": "text/x-python",
   "name": "python",
   "nbconvert_exporter": "python",
   "pygments_lexer": "ipython3",
   "version": "3.9.12"
  }
 },
 "nbformat": 4,
 "nbformat_minor": 5
}
