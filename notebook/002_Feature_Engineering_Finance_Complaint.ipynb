{
 "cells": [
  {
   "cell_type": "markdown",
   "id": "3cb5b550",
   "metadata": {},
   "source": [
    "# Feature Engineering and Model Training"
   ]
  },
  {
   "cell_type": "markdown",
   "id": "bbed9252",
   "metadata": {},
   "source": [
    "#### Import required libraries"
   ]
  },
  {
   "cell_type": "code",
   "execution_count": 1,
   "id": "6cf760fa",
   "metadata": {},
   "outputs": [],
   "source": [
    "# Basic\n",
    "import pandas as pd\n",
    "import numpy as np\n",
    "import matplotlib.pyplot as plt\n",
    "import seaborn as sns\n",
    "import plotly.express as px\n",
    "import warnings\n",
    "warnings.filterwarnings('ignore')\n",
    "\n",
    "# For text Processing\n",
    "import nltk\n",
    "from nltk.corpus import stopwords\n",
    "from nltk import word_tokenize, FreqDist\n",
    "import string\n",
    "from nltk.stem.wordnet import WordNetLemmatizer\n",
    "from sklearn.feature_extraction.text import TfidfVectorizer\n",
    "\n",
    "# For Classification model selection\n",
    "from sklearn.tree import DecisionTreeClassifier\n",
    "from sklearn.ensemble import RandomForestClassifier, GradientBoostingClassifier, AdaBoostClassifier\n",
    "from sklearn.linear_model import LogisticRegression\n",
    "from sklearn.neighbors import KNeighborsClassifier\n",
    "from sklearn.metrics import accuracy_score, confusion_matrix, ConfusionMatrixDisplay, precision_score, recall_score, f1_score,\\\n",
    "                            roc_auc_score, roc_curve\n",
    "\n",
    "from sklearn.svm import SVC\n",
    "from sklearn.tree import DecisionTreeClassifier\n",
    "from xgboost import XGBClassifier\n",
    "from catboost import CatBoostClassifier\n",
    "\n",
    "# For data pre-processing\n",
    "from sklearn.preprocessing import OneHotEncoder, StandardScaler, RobustScaler\n",
    "from sklearn.compose import ColumnTransformer\n",
    "from sklearn.pipeline import Pipeline\n",
    "from sklearn.impute import SimpleImputer\n",
    "from category_encoders.binary import BinaryEncoder\n",
    "from imblearn.combine import SMOTETomek\n",
    "\n",
    "# For Hyperparameter tuning\n",
    "from hyperopt import tpe, hp, Trials, space_eval\n",
    "from hyperopt.fmin import fmin\n",
    "from hyperopt.pyll import scope"
   ]
  },
  {
   "cell_type": "markdown",
   "id": "9a40af6a",
   "metadata": {},
   "source": [
    "#### Importding the data from source"
   ]
  },
  {
   "cell_type": "code",
   "execution_count": 2,
   "id": "edb2f630",
   "metadata": {},
   "outputs": [],
   "source": [
    "df_full = pd.read_parquet('data/f_complaint.parquet')"
   ]
  },
  {
   "cell_type": "code",
   "execution_count": 3,
   "id": "597d857d",
   "metadata": {},
   "outputs": [],
   "source": [
    "df_full.replace('', np.nan, inplace=True)"
   ]
  },
  {
   "cell_type": "code",
   "execution_count": 4,
   "id": "9b0d0483",
   "metadata": {},
   "outputs": [],
   "source": [
    "df = df_full[df_full.consumer_disputed != 'N/A'].reset_index()"
   ]
  },
  {
   "cell_type": "markdown",
   "id": "b3e5ad0a",
   "metadata": {},
   "source": [
    "#### As per the Final Report of EDA some features can be removed"
   ]
  },
  {
   "cell_type": "code",
   "execution_count": 5,
   "id": "8607538b",
   "metadata": {},
   "outputs": [
    {
     "data": {
      "text/html": [
       "<div>\n",
       "<style scoped>\n",
       "    .dataframe tbody tr th:only-of-type {\n",
       "        vertical-align: middle;\n",
       "    }\n",
       "\n",
       "    .dataframe tbody tr th {\n",
       "        vertical-align: top;\n",
       "    }\n",
       "\n",
       "    .dataframe thead th {\n",
       "        text-align: right;\n",
       "    }\n",
       "</style>\n",
       "<table border=\"1\" class=\"dataframe\">\n",
       "  <thead>\n",
       "    <tr style=\"text-align: right;\">\n",
       "      <th></th>\n",
       "      <th>0</th>\n",
       "    </tr>\n",
       "  </thead>\n",
       "  <tbody>\n",
       "    <tr>\n",
       "      <th>tags</th>\n",
       "      <td>85.880940</td>\n",
       "    </tr>\n",
       "    <tr>\n",
       "      <th>complaint_what_happened</th>\n",
       "      <td>78.653184</td>\n",
       "    </tr>\n",
       "    <tr>\n",
       "      <th>company_public_response</th>\n",
       "      <td>74.527538</td>\n",
       "    </tr>\n",
       "    <tr>\n",
       "      <th>sub_issue</th>\n",
       "      <td>59.267931</td>\n",
       "    </tr>\n",
       "    <tr>\n",
       "      <th>sub_product</th>\n",
       "      <td>30.607068</td>\n",
       "    </tr>\n",
       "    <tr>\n",
       "      <th>state</th>\n",
       "      <td>0.735375</td>\n",
       "    </tr>\n",
       "    <tr>\n",
       "      <th>zip_code</th>\n",
       "      <td>0.502007</td>\n",
       "    </tr>\n",
       "    <tr>\n",
       "      <th>consumer_consent_provided</th>\n",
       "      <td>0.004946</td>\n",
       "    </tr>\n",
       "    <tr>\n",
       "      <th>submitted_via</th>\n",
       "      <td>0.000000</td>\n",
       "    </tr>\n",
       "    <tr>\n",
       "      <th>consumer_disputed</th>\n",
       "      <td>0.000000</td>\n",
       "    </tr>\n",
       "    <tr>\n",
       "      <th>timely</th>\n",
       "      <td>0.000000</td>\n",
       "    </tr>\n",
       "    <tr>\n",
       "      <th>company_response</th>\n",
       "      <td>0.000000</td>\n",
       "    </tr>\n",
       "    <tr>\n",
       "      <th>date_sent_to_company</th>\n",
       "      <td>0.000000</td>\n",
       "    </tr>\n",
       "    <tr>\n",
       "      <th>index</th>\n",
       "      <td>0.000000</td>\n",
       "    </tr>\n",
       "    <tr>\n",
       "      <th>date_received</th>\n",
       "      <td>0.000000</td>\n",
       "    </tr>\n",
       "    <tr>\n",
       "      <th>company</th>\n",
       "      <td>0.000000</td>\n",
       "    </tr>\n",
       "    <tr>\n",
       "      <th>issue</th>\n",
       "      <td>0.000000</td>\n",
       "    </tr>\n",
       "    <tr>\n",
       "      <th>product</th>\n",
       "      <td>0.000000</td>\n",
       "    </tr>\n",
       "    <tr>\n",
       "      <th>complaint_id</th>\n",
       "      <td>0.000000</td>\n",
       "    </tr>\n",
       "  </tbody>\n",
       "</table>\n",
       "</div>"
      ],
      "text/plain": [
       "                                   0\n",
       "tags                       85.880940\n",
       "complaint_what_happened    78.653184\n",
       "company_public_response    74.527538\n",
       "sub_issue                  59.267931\n",
       "sub_product                30.607068\n",
       "state                       0.735375\n",
       "zip_code                    0.502007\n",
       "consumer_consent_provided   0.004946\n",
       "submitted_via               0.000000\n",
       "consumer_disputed           0.000000\n",
       "timely                      0.000000\n",
       "company_response            0.000000\n",
       "date_sent_to_company        0.000000\n",
       "index                       0.000000\n",
       "date_received               0.000000\n",
       "company                     0.000000\n",
       "issue                       0.000000\n",
       "product                     0.000000\n",
       "complaint_id                0.000000"
      ]
     },
     "execution_count": 5,
     "metadata": {},
     "output_type": "execute_result"
    }
   ],
   "source": [
    "missing_data = df.isna().sum().div(df.shape[0]).mul(100).to_frame().sort_values(by=0, ascending = False)\n",
    "missing_data"
   ]
  },
  {
   "cell_type": "code",
   "execution_count": 6,
   "id": "9b6b69d1",
   "metadata": {},
   "outputs": [
    {
     "data": {
      "text/plain": [
       "(5630440, 18)"
      ]
     },
     "execution_count": 6,
     "metadata": {},
     "output_type": "execute_result"
    }
   ],
   "source": [
    "df_full.shape"
   ]
  },
  {
   "cell_type": "code",
   "execution_count": 7,
   "id": "12d9308b",
   "metadata": {},
   "outputs": [
    {
     "data": {
      "text/plain": [
       "(768316, 19)"
      ]
     },
     "execution_count": 7,
     "metadata": {},
     "output_type": "execute_result"
    }
   ],
   "source": [
    "df.shape"
   ]
  },
  {
   "cell_type": "markdown",
   "id": "cbfc8d0b",
   "metadata": {},
   "source": [
    "#### Company columns can be dropped as it contains 4284 unique values which are names"
   ]
  },
  {
   "cell_type": "code",
   "execution_count": 8,
   "id": "cc71f92e",
   "metadata": {},
   "outputs": [],
   "source": [
    "drop_columns = ['tags', 'complaint_what_happened', 'company_public_response', \n",
    "                'sub_issue', 'sub_product', 'zip_code', 'complaint_id']\n",
    "df.drop(drop_columns, axis=1, inplace=True)"
   ]
  },
  {
   "cell_type": "code",
   "execution_count": 9,
   "id": "a12a00db",
   "metadata": {},
   "outputs": [
    {
     "data": {
      "text/html": [
       "<div>\n",
       "<style scoped>\n",
       "    .dataframe tbody tr th:only-of-type {\n",
       "        vertical-align: middle;\n",
       "    }\n",
       "\n",
       "    .dataframe tbody tr th {\n",
       "        vertical-align: top;\n",
       "    }\n",
       "\n",
       "    .dataframe thead th {\n",
       "        text-align: right;\n",
       "    }\n",
       "</style>\n",
       "<table border=\"1\" class=\"dataframe\">\n",
       "  <thead>\n",
       "    <tr style=\"text-align: right;\">\n",
       "      <th></th>\n",
       "      <th>0</th>\n",
       "    </tr>\n",
       "  </thead>\n",
       "  <tbody>\n",
       "    <tr>\n",
       "      <th>state</th>\n",
       "      <td>0.735375</td>\n",
       "    </tr>\n",
       "    <tr>\n",
       "      <th>consumer_consent_provided</th>\n",
       "      <td>0.004946</td>\n",
       "    </tr>\n",
       "    <tr>\n",
       "      <th>index</th>\n",
       "      <td>0.000000</td>\n",
       "    </tr>\n",
       "    <tr>\n",
       "      <th>date_received</th>\n",
       "      <td>0.000000</td>\n",
       "    </tr>\n",
       "    <tr>\n",
       "      <th>product</th>\n",
       "      <td>0.000000</td>\n",
       "    </tr>\n",
       "    <tr>\n",
       "      <th>issue</th>\n",
       "      <td>0.000000</td>\n",
       "    </tr>\n",
       "    <tr>\n",
       "      <th>company</th>\n",
       "      <td>0.000000</td>\n",
       "    </tr>\n",
       "    <tr>\n",
       "      <th>submitted_via</th>\n",
       "      <td>0.000000</td>\n",
       "    </tr>\n",
       "    <tr>\n",
       "      <th>date_sent_to_company</th>\n",
       "      <td>0.000000</td>\n",
       "    </tr>\n",
       "    <tr>\n",
       "      <th>company_response</th>\n",
       "      <td>0.000000</td>\n",
       "    </tr>\n",
       "    <tr>\n",
       "      <th>timely</th>\n",
       "      <td>0.000000</td>\n",
       "    </tr>\n",
       "    <tr>\n",
       "      <th>consumer_disputed</th>\n",
       "      <td>0.000000</td>\n",
       "    </tr>\n",
       "  </tbody>\n",
       "</table>\n",
       "</div>"
      ],
      "text/plain": [
       "                                  0\n",
       "state                      0.735375\n",
       "consumer_consent_provided  0.004946\n",
       "index                      0.000000\n",
       "date_received              0.000000\n",
       "product                    0.000000\n",
       "issue                      0.000000\n",
       "company                    0.000000\n",
       "submitted_via              0.000000\n",
       "date_sent_to_company       0.000000\n",
       "company_response           0.000000\n",
       "timely                     0.000000\n",
       "consumer_disputed          0.000000"
      ]
     },
     "execution_count": 9,
     "metadata": {},
     "output_type": "execute_result"
    }
   ],
   "source": [
    "missing_data_up = df.isna().sum().div(df.shape[0]).mul(100).to_frame().sort_values(by=0, ascending = False)\n",
    "missing_data_up"
   ]
  },
  {
   "cell_type": "markdown",
   "id": "43e0119a",
   "metadata": {},
   "source": [
    "- In `state` and `consumer_consent_provided` only 0.7 and 0.04% of missing values. It can be imputed with Simple imputer with mode stratergy"
   ]
  },
  {
   "cell_type": "markdown",
   "id": "cfaa31d8",
   "metadata": {},
   "source": [
    "## Feature Extraction"
   ]
  },
  {
   "cell_type": "code",
   "execution_count": 10,
   "id": "6c84f3e8",
   "metadata": {},
   "outputs": [
    {
     "data": {
      "text/html": [
       "<div>\n",
       "<style scoped>\n",
       "    .dataframe tbody tr th:only-of-type {\n",
       "        vertical-align: middle;\n",
       "    }\n",
       "\n",
       "    .dataframe tbody tr th {\n",
       "        vertical-align: top;\n",
       "    }\n",
       "\n",
       "    .dataframe thead th {\n",
       "        text-align: right;\n",
       "    }\n",
       "</style>\n",
       "<table border=\"1\" class=\"dataframe\">\n",
       "  <thead>\n",
       "    <tr style=\"text-align: right;\">\n",
       "      <th></th>\n",
       "      <th>date_received</th>\n",
       "      <th>date_sent_to_company</th>\n",
       "    </tr>\n",
       "  </thead>\n",
       "  <tbody>\n",
       "    <tr>\n",
       "      <th>0</th>\n",
       "      <td>2012-03-01</td>\n",
       "      <td>2012-06-01</td>\n",
       "    </tr>\n",
       "    <tr>\n",
       "      <th>1</th>\n",
       "      <td>2012-03-02</td>\n",
       "      <td>2012-10-25</td>\n",
       "    </tr>\n",
       "    <tr>\n",
       "      <th>2</th>\n",
       "      <td>2013-08-23</td>\n",
       "      <td>2013-08-23</td>\n",
       "    </tr>\n",
       "    <tr>\n",
       "      <th>3</th>\n",
       "      <td>2012-05-22</td>\n",
       "      <td>2012-05-30</td>\n",
       "    </tr>\n",
       "    <tr>\n",
       "      <th>4</th>\n",
       "      <td>2012-04-25</td>\n",
       "      <td>2012-04-25</td>\n",
       "    </tr>\n",
       "  </tbody>\n",
       "</table>\n",
       "</div>"
      ],
      "text/plain": [
       "  date_received date_sent_to_company\n",
       "0    2012-03-01           2012-06-01\n",
       "1    2012-03-02           2012-10-25\n",
       "2    2013-08-23           2013-08-23\n",
       "3    2012-05-22           2012-05-30\n",
       "4    2012-04-25           2012-04-25"
      ]
     },
     "execution_count": 10,
     "metadata": {},
     "output_type": "execute_result"
    }
   ],
   "source": [
    "df[['date_received', 'date_sent_to_company']].head(5)"
   ]
  },
  {
   "cell_type": "markdown",
   "id": "38f9e980",
   "metadata": {},
   "source": [
    "- Here dataset has two date features, `date_received` which is the date on which the complaint was registered to CFPB and `date_sent_to_company` is when the complaint has been sent the respective company."
   ]
  },
  {
   "cell_type": "code",
   "execution_count": 11,
   "id": "d3810b5b",
   "metadata": {},
   "outputs": [],
   "source": [
    "# difference between complaint recieved vs data complaint sent to the company\n",
    "df['days_to_forward_complaint'] = pd.to_datetime(df.date_sent_to_company) - pd.to_datetime(df.date_received)\n",
    "\n",
    "# Get the days in datetime days (numeric) format\n",
    "df['days_to_forward_complaint'] = df['days_to_forward_complaint'].dt.days"
   ]
  },
  {
   "cell_type": "code",
   "execution_count": 12,
   "id": "4140711c",
   "metadata": {},
   "outputs": [],
   "source": [
    "# After creating the days_to_forward_complaint, both the date columns can be removed\n",
    "df.drop(['date_sent_to_company', 'date_received'], axis=1, inplace=True)"
   ]
  },
  {
   "cell_type": "markdown",
   "id": "07342ca6",
   "metadata": {},
   "source": [
    "The feature days to forward complaint has information about the duration taken for CFPB to forward the complaint to companies"
   ]
  },
  {
   "cell_type": "markdown",
   "id": "76603e9d",
   "metadata": {},
   "source": [
    "### For model to reduce computation time we can use sample of the data for model"
   ]
  },
  {
   "cell_type": "code",
   "execution_count": 13,
   "id": "2c743110",
   "metadata": {},
   "outputs": [],
   "source": [
    "# Get a sample data to perform model training\n",
    "\n",
    "df1 = df.groupby('consumer_disputed').sample(n=50000)\n",
    "df1.reset_index(inplace=True)"
   ]
  },
  {
   "cell_type": "markdown",
   "id": "c626a81b",
   "metadata": {},
   "source": [
    "## Text Processing\n",
    "\n",
    "### For Vectorization\n",
    "\n",
    "- **TF-IDF**\n",
    "- **CountVectorizer**\n",
    "- **NLTH/Spicy Library**\n",
    "- **Pretrained Glove**\n",
    "\n",
    "\n",
    "- **Here we can use TF-IDF to process**\n",
    "\n",
    "\n",
    "### Steps for text processing\n",
    "\n",
    "- **Remove Punctuation**\n",
    "- **Remove Stopwords**\n",
    "- **Lower Casing**\n",
    "- **Tokenization**\n",
    "- **Stemming/Lemmatization**\n",
    "\n",
    "\n",
    "\n",
    "1. The `issue` column has text which has to be preprocessed.\n",
    "2. The text needs to be transformed into vectors so as the algorithms will be able to make predictions. In this case, it will be used the Term Frequency - Inverse Document Frequesncy (TF-IDF) weight to evaluate how important a word is to a document in a collection of documents.\n",
    "3. After removing punctuation and lower casing the words, the importance of a word is determined in terms of its frequency."
   ]
  },
  {
   "cell_type": "markdown",
   "id": "6d61a327",
   "metadata": {},
   "source": [
    "### Create list of stop words which has to be removed"
   ]
  },
  {
   "cell_type": "code",
   "execution_count": 14,
   "id": "8f9a171d",
   "metadata": {},
   "outputs": [],
   "source": [
    "stopwords_list = stopwords.words('english') + list(string.punctuation)"
   ]
  },
  {
   "cell_type": "code",
   "execution_count": 15,
   "id": "3dd796bb",
   "metadata": {},
   "outputs": [],
   "source": [
    "# function to tokenize data and remove stopwords\n",
    "def process_text(issue):\n",
    "    \n",
    "    # create tokens\n",
    "    tokens = nltk.word_tokenize(issue)\n",
    "    \n",
    "    # remove common stopwords\n",
    "    stopwords_removed = [token.lower() for token in tokens if token.lower() not in stopwords_list]\n",
    "    \n",
    "    # remove stopwords including few punctuation\n",
    "    stopwords_removed = [word for word in stopwords_removed if word.isalpha()]\n",
    "    \n",
    "    return stopwords_removed\n",
    "\n",
    "# concat the strings\n",
    "def concat_strings(words_list):\n",
    "    concat_words = ''\n",
    "    for word in words_list:\n",
    "        concat_words += word + ' '\n",
    "    return concat_words.strip()\n",
    "\n",
    "# function to lemmatize words and merge each complaint into a single space-separated string\n",
    "lemm = WordNetLemmatizer()\n",
    "\n",
    "def lemmatizer_concat(words_list):\n",
    "    \n",
    "    #remove any NaN's\n",
    "    list_of_words = [i for i in words_list if i is not np.nan]\n",
    "    \n",
    "    # lemmatize each word\n",
    "    lemmatized_list = []\n",
    "    \n",
    "    for idx, word in enumerate(words_list):\n",
    "        lemmatized_list.append(lemm.lemmatize(word))\n",
    "        \n",
    "    # make the list into a single string with the words seperated by ' '\n",
    "    final_string = concat_strings(lemmatized_list)\n",
    "    return final_string\n",
    "    "
   ]
  },
  {
   "cell_type": "markdown",
   "id": "5d20ab7b",
   "metadata": {},
   "source": [
    "### Prepare data with text processing"
   ]
  },
  {
   "cell_type": "code",
   "execution_count": 16,
   "id": "a886b52c",
   "metadata": {},
   "outputs": [
    {
     "name": "stdout",
     "output_type": "stream",
     "text": [
      "Processed Row Number 0\n",
      "Processed Row Number 5000\n",
      "Processed Row Number 10000\n",
      "Processed Row Number 15000\n",
      "Processed Row Number 20000\n",
      "Processed Row Number 25000\n",
      "Processed Row Number 30000\n",
      "Processed Row Number 35000\n",
      "Processed Row Number 40000\n",
      "Processed Row Number 45000\n",
      "Processed Row Number 50000\n",
      "Processed Row Number 55000\n",
      "Processed Row Number 60000\n",
      "Processed Row Number 65000\n",
      "Processed Row Number 70000\n",
      "Processed Row Number 75000\n",
      "Processed Row Number 80000\n",
      "Processed Row Number 85000\n",
      "Processed Row Number 90000\n",
      "Processed Row Number 95000\n"
     ]
    }
   ],
   "source": [
    "for i in range(len(df1)):\n",
    "    text = process_text(df1['issue'].loc[i])\n",
    "    final_texts = lemmatizer_concat(text)\n",
    "    df1['issue'].iloc[i] = final_texts\n",
    "    if i % 5000 == 0:\n",
    "        print(f\"Processed Row Number {i}\")"
   ]
  },
  {
   "cell_type": "markdown",
   "id": "43fd0831",
   "metadata": {},
   "source": [
    "### Vectorizing the processed texts"
   ]
  },
  {
   "cell_type": "code",
   "execution_count": 17,
   "id": "22c8ab13",
   "metadata": {},
   "outputs": [],
   "source": [
    "tfidf_vect = TfidfVectorizer(max_features=None, strip_accents='unicode', analyzer='word', ngram_range=(1,2))\n",
    "\n",
    "# Get data after vectorizing issue column\n",
    "df_vect = tfidf_vect.fit_transform(df1['issue'])\n",
    "\n",
    "feature_names = tfidf_vect.get_feature_names()"
   ]
  },
  {
   "cell_type": "markdown",
   "id": "3c3959dd",
   "metadata": {},
   "source": [
    "## Data Preprocessing\n",
    "\n",
    "#### Concat old data with vectorized data from issue text column"
   ]
  },
  {
   "cell_type": "code",
   "execution_count": 18,
   "id": "dbe3722c",
   "metadata": {},
   "outputs": [],
   "source": [
    "df1 = pd.concat([df1, pd.DataFrame(df_vect.toarray())], axis=1)"
   ]
  },
  {
   "cell_type": "markdown",
   "id": "f2a13414",
   "metadata": {},
   "source": [
    "#### After processing issue column as vectors, Now issue column can be removed"
   ]
  },
  {
   "cell_type": "code",
   "execution_count": 19,
   "id": "f5b2d354",
   "metadata": {},
   "outputs": [],
   "source": [
    "df1.drop(['issue', 'index'], axis=1, inplace=True)"
   ]
  },
  {
   "cell_type": "code",
   "execution_count": 20,
   "id": "520abb48",
   "metadata": {},
   "outputs": [],
   "source": [
    "from sklearn.model_selection import train_test_split\n",
    "X = df1.drop(['consumer_disputed'], axis=1)\n",
    "y = df1['consumer_disputed']"
   ]
  },
  {
   "cell_type": "code",
   "execution_count": 21,
   "id": "ab1cbc87",
   "metadata": {},
   "outputs": [
    {
     "data": {
      "text/plain": [
       "(100000, 323)"
      ]
     },
     "execution_count": 21,
     "metadata": {},
     "output_type": "execute_result"
    }
   ],
   "source": [
    "# check shape of Train data\n",
    "X.shape"
   ]
  },
  {
   "cell_type": "code",
   "execution_count": 22,
   "id": "be972742",
   "metadata": {},
   "outputs": [
    {
     "data": {
      "text/plain": [
       "Index(['index', 'product', 'issue', 'company', 'state',\n",
       "       'consumer_consent_provided', 'submitted_via', 'company_response',\n",
       "       'timely', 'consumer_disputed', 'days_to_forward_complaint'],\n",
       "      dtype='object')"
      ]
     },
     "execution_count": 22,
     "metadata": {},
     "output_type": "execute_result"
    }
   ],
   "source": [
    "df.columns"
   ]
  },
  {
   "cell_type": "markdown",
   "id": "cbbb3275",
   "metadata": {},
   "source": [
    "### Initialize features for transformation"
   ]
  },
  {
   "cell_type": "code",
   "execution_count": 23,
   "id": "b7129a47",
   "metadata": {},
   "outputs": [],
   "source": [
    "# for binary encoder\n",
    "binary_features = ['product', 'state', 'submitted_via', 'company_response']\n",
    "\n",
    "# for onehot encoder\n",
    "onehot_features = ['consumer_consent_provided', 'timely', 'state', 'company']\n",
    "\n",
    "numerical_feature = []"
   ]
  },
  {
   "cell_type": "markdown",
   "id": "ab045f1e",
   "metadata": {},
   "source": [
    "### Create column_transformer for transformation"
   ]
  },
  {
   "cell_type": "code",
   "execution_count": 24,
   "id": "8ecaceee",
   "metadata": {},
   "outputs": [],
   "source": [
    "onehot_encoder_pipeline = Pipeline(steps=[\n",
    "    ('SimpleImputer', SimpleImputer(strategy='most_frequent')),\n",
    "    ('OneHot_encoder', OneHotEncoder())\n",
    "])\n",
    "binary_encoder_pipeline = Pipeline(steps=[\n",
    "    ('SimpleImputer', SimpleImputer(strategy='most_frequent')),\n",
    "    ('BinaryEncoder', BinaryEncoder())\n",
    "])\n",
    "\n",
    "# Getting data pre processor object\n",
    "preprocessor = ColumnTransformer([\n",
    "    ('Categorical_Pipeline', onehot_encoder_pipeline, onehot_features),\n",
    "    ('Binary_encoder_pipeline', binary_encoder_pipeline, binary_features),\n",
    "    ('Numeric_Pipeline', RobustScaler(), numerical_feature)\n",
    "    ],\n",
    "    remainder='passthrough'\n",
    ")\n"
   ]
  },
  {
   "cell_type": "markdown",
   "id": "faa9730e",
   "metadata": {},
   "source": [
    "### Transforming the data for modelling"
   ]
  },
  {
   "cell_type": "code",
   "execution_count": 25,
   "id": "4cd2f540",
   "metadata": {},
   "outputs": [],
   "source": [
    "# fit transform the train data\n",
    "X = preprocessor.fit_transform(X)"
   ]
  },
  {
   "cell_type": "markdown",
   "id": "6b03045f",
   "metadata": {},
   "source": [
    "### Manually Encoding Target modelling"
   ]
  },
  {
   "cell_type": "code",
   "execution_count": 26,
   "id": "4c43d0e3",
   "metadata": {},
   "outputs": [],
   "source": [
    "# manually encoding \"Yes\" as 0 and \"No\" as 1\n",
    "y = np.where(y.values==\"Yes\", 0, 1)"
   ]
  },
  {
   "cell_type": "markdown",
   "id": "a0593b18",
   "metadata": {},
   "source": [
    "## Handeling Imbalanced Dataset\n",
    "\n",
    "### Handeling Imbalanced Target Variable\n",
    "\n",
    "- **Synthetic Minority Oversampling Technique or SMOTE is another technique to oversample the minority class. Simply adding duplicate records of minority class often do not add new information to the model.**\n",
    "- **SMOTE is one of the famous oversampling techniques and is very effective in handling class imbalance. The idea is to combine SMOTE with some undersampling techniques (ENN, Tomek) to increase the effectiveness of handling the imbalanced class**"
   ]
  },
  {
   "cell_type": "code",
   "execution_count": 27,
   "id": "9998fba5",
   "metadata": {},
   "outputs": [],
   "source": [
    "# Resampling the miniority class The strategy can be changed as required\n",
    "smt = SMOTETomek(random_state=42, sampling_strategy='minority', n_jobs=-1)\n",
    "\n",
    "# Fit the model to generate the data.\n",
    "X_res, y_res = smt.fit_resample(X, y)"
   ]
  },
  {
   "cell_type": "markdown",
   "id": "019e5b32",
   "metadata": {},
   "source": [
    "## Model Selection\n",
    "\n",
    "### Here should understand the Various Classification models with default values from these models we can choose top 4 with Highest Accuracy score and procedd with HyperParameter Tuning"
   ]
  },
  {
   "cell_type": "code",
   "execution_count": 28,
   "id": "a73c6ed5",
   "metadata": {},
   "outputs": [],
   "source": [
    "# Function which returns all evaluation metrics for classification model\n",
    "\n",
    "def evaluate_clf(true, predicted):\n",
    "    acc = accuracy_score(true, predicted) # calculated Accuracy\n",
    "    f1 = f1_score(true, predicted)\n",
    "    precision = precision_score(true, predicted)\n",
    "    recall = recall_score(true, predicted)\n",
    "    roc_auc = roc_auc_score(true, predicted)\n",
    "    return acc, f1, precision, recall, roc_auc"
   ]
  },
  {
   "cell_type": "code",
   "execution_count": 29,
   "id": "c599708c",
   "metadata": {},
   "outputs": [],
   "source": [
    "# Initialize models which are required for model selection\n",
    "\n",
    "models = {\n",
    "    \"Random Forest\": RandomForestClassifier(),\n",
    "    \"Decision Tree\": DecisionTreeClassifier(),\n",
    "    \"Gradient Boosting\": GradientBoostingClassifier(),\n",
    "    \"Logistic Regression\": LogisticRegression(),\n",
    "    \"K-Neighbors Classifier\": KNeighborsClassifier(),\n",
    "    \"XGBClassifier\": XGBClassifier(),\n",
    "    \"CatBoosting Classifier\": CatBoostClassifier(verbose=False),\n",
    "    \"AdaBoost Classifier\": AdaBoostClassifier()\n",
    "}"
   ]
  },
  {
   "cell_type": "code",
   "execution_count": 30,
   "id": "55f7dda1",
   "metadata": {},
   "outputs": [],
   "source": [
    "# Create a function which can evaluate models and return a report in DataFrame\n",
    "\n",
    "def evaluate_models(X, y, models):\n",
    "    '''\n",
    "    This function takes in X(dependent features) and y(target feature) models as input\n",
    "    It splits the data into Train and Test split\n",
    "    Iterates through the given model dictionary and evaluates the metrics\n",
    "    Returns: DatatFrame ehich contains report of all models metrics with cost\n",
    "    '''\n",
    "    \n",
    "    # Separate dataset into train and test\n",
    "    X_train, X_test, y_train, y_test = train_test_split(X, y, test_size=0.2, random_state=42)\n",
    "    \n",
    "    models_list = []\n",
    "    accuracy_list = []\n",
    "    auc = []\n",
    "    \n",
    "    for i in range(len(list(models))):\n",
    "        model = list(models.values())[i]\n",
    "        model.fit(X_train, y_train) # Train model\n",
    "        \n",
    "        #Make Predictions\n",
    "        y_train_pred = model.predict(X_train)\n",
    "        y_test_pred = model.predict(X_test)\n",
    "        \n",
    "        #Training set performance\n",
    "        model_train_accuracy, model_train_f1, model_train_precision, \\\n",
    "        model_train_recall, model_train_rocauc_score = evaluate_clf(y_train, y_train_pred)\n",
    "        \n",
    "        # Test set Performance\n",
    "        model_test_accuracy, model_test_f1, model_test_precision, \\\n",
    "        model_test_recall, model_test_rocauc_score = evaluate_clf(y_test, y_test_pred)\n",
    "        \n",
    "        \n",
    "        print(list(models.keys())[i])\n",
    "        models_list.append(list(models.keys())[i])\n",
    "        \n",
    "        print('Model performance for Training set')\n",
    "        print(f'~ Accuracy: {model_test_accuracy: .4f}')\n",
    "        accuracy_list.append(model_test_accuracy)\n",
    "        print(f'~ F1 Score: {model_test_f1: .4f}')\n",
    "        print(f'~ Precision: {model_test_precision: .4f}')\n",
    "        print(f'~ Recall: {model_test_recall: .4f}')\n",
    "        print(f'~ ROC AUC Score: {model_test_rocauc_score: .4f}')\n",
    "        auc.append(model_test_rocauc_score)\n",
    "        print('='*35)\n",
    "        print('\\n')\n",
    "        \n",
    "        \n",
    "    report = pd.DataFrame(list(zip(models_list, accuracy_list)),\n",
    "                         columns=['Model Name', 'Accuracy']).sort_values(by=['Accuracy'], ascending=False)\n",
    "    \n",
    "    return report"
   ]
  },
  {
   "cell_type": "markdown",
   "id": "ccd274f0",
   "metadata": {},
   "source": [
    "### Base report of all models with default parameters"
   ]
  },
  {
   "cell_type": "code",
   "execution_count": 31,
   "id": "c2fc37f1",
   "metadata": {},
   "outputs": [
    {
     "name": "stdout",
     "output_type": "stream",
     "text": [
      "Random Forest\n",
      "Model performance for Training set\n",
      "~ Accuracy:  0.5778\n",
      "~ F1 Score:  0.5755\n",
      "~ Precision:  0.5788\n",
      "~ Recall:  0.5722\n",
      "~ ROC AUC Score:  0.5778\n",
      "===================================\n",
      "\n",
      "\n",
      "Decision Tree\n",
      "Model performance for Training set\n",
      "~ Accuracy:  0.5684\n",
      "~ F1 Score:  0.5680\n",
      "~ Precision:  0.5687\n",
      "~ Recall:  0.5672\n",
      "~ ROC AUC Score:  0.5684\n",
      "===================================\n",
      "\n",
      "\n",
      "Gradient Boosting\n",
      "Model performance for Training set\n",
      "~ Accuracy:  0.6211\n",
      "~ F1 Score:  0.6104\n",
      "~ Precision:  0.6283\n",
      "~ Recall:  0.5935\n",
      "~ ROC AUC Score:  0.6211\n",
      "===================================\n",
      "\n",
      "\n",
      "Logistic Regression\n",
      "Model performance for Training set\n",
      "~ Accuracy:  0.5001\n",
      "~ F1 Score:  0.6668\n",
      "~ Precision:  0.5001\n",
      "~ Recall:  1.0000\n",
      "~ ROC AUC Score:  0.5000\n",
      "===================================\n",
      "\n",
      "\n",
      "K-Neighbors Classifier\n",
      "Model performance for Training set\n",
      "~ Accuracy:  0.5964\n",
      "~ F1 Score:  0.6034\n",
      "~ Precision:  0.5934\n",
      "~ Recall:  0.6138\n",
      "~ ROC AUC Score:  0.5964\n",
      "===================================\n",
      "\n",
      "\n",
      "XGBClassifier\n",
      "Model performance for Training set\n",
      "~ Accuracy:  0.6337\n",
      "~ F1 Score:  0.6342\n",
      "~ Precision:  0.6335\n",
      "~ Recall:  0.6348\n",
      "~ ROC AUC Score:  0.6337\n",
      "===================================\n",
      "\n",
      "\n",
      "CatBoosting Classifier\n",
      "Model performance for Training set\n",
      "~ Accuracy:  0.6320\n",
      "~ F1 Score:  0.6354\n",
      "~ Precision:  0.6298\n",
      "~ Recall:  0.6412\n",
      "~ ROC AUC Score:  0.6320\n",
      "===================================\n",
      "\n",
      "\n",
      "AdaBoost Classifier\n",
      "Model performance for Training set\n",
      "~ Accuracy:  0.6114\n",
      "~ F1 Score:  0.5976\n",
      "~ Precision:  0.6198\n",
      "~ Recall:  0.5770\n",
      "~ ROC AUC Score:  0.6114\n",
      "===================================\n",
      "\n",
      "\n"
     ]
    }
   ],
   "source": [
    "base_report = evaluate_models(X=X_res, y= y_res, models=models)"
   ]
  },
  {
   "cell_type": "markdown",
   "id": "0947f630",
   "metadata": {},
   "source": [
    "### Report in DataFrame"
   ]
  },
  {
   "cell_type": "code",
   "execution_count": 32,
   "id": "1e046f62",
   "metadata": {},
   "outputs": [
    {
     "data": {
      "text/html": [
       "<div>\n",
       "<style scoped>\n",
       "    .dataframe tbody tr th:only-of-type {\n",
       "        vertical-align: middle;\n",
       "    }\n",
       "\n",
       "    .dataframe tbody tr th {\n",
       "        vertical-align: top;\n",
       "    }\n",
       "\n",
       "    .dataframe thead th {\n",
       "        text-align: right;\n",
       "    }\n",
       "</style>\n",
       "<table border=\"1\" class=\"dataframe\">\n",
       "  <thead>\n",
       "    <tr style=\"text-align: right;\">\n",
       "      <th></th>\n",
       "      <th>Model Name</th>\n",
       "      <th>Accuracy</th>\n",
       "    </tr>\n",
       "  </thead>\n",
       "  <tbody>\n",
       "    <tr>\n",
       "      <th>5</th>\n",
       "      <td>XGBClassifier</td>\n",
       "      <td>0.633668</td>\n",
       "    </tr>\n",
       "    <tr>\n",
       "      <th>6</th>\n",
       "      <td>CatBoosting Classifier</td>\n",
       "      <td>0.632041</td>\n",
       "    </tr>\n",
       "    <tr>\n",
       "      <th>2</th>\n",
       "      <td>Gradient Boosting</td>\n",
       "      <td>0.621073</td>\n",
       "    </tr>\n",
       "    <tr>\n",
       "      <th>7</th>\n",
       "      <td>AdaBoost Classifier</td>\n",
       "      <td>0.611378</td>\n",
       "    </tr>\n",
       "    <tr>\n",
       "      <th>4</th>\n",
       "      <td>K-Neighbors Classifier</td>\n",
       "      <td>0.596448</td>\n",
       "    </tr>\n",
       "    <tr>\n",
       "      <th>0</th>\n",
       "      <td>Random Forest</td>\n",
       "      <td>0.577767</td>\n",
       "    </tr>\n",
       "    <tr>\n",
       "      <th>1</th>\n",
       "      <td>Decision Tree</td>\n",
       "      <td>0.568426</td>\n",
       "    </tr>\n",
       "    <tr>\n",
       "      <th>3</th>\n",
       "      <td>Logistic Regression</td>\n",
       "      <td>0.500142</td>\n",
       "    </tr>\n",
       "  </tbody>\n",
       "</table>\n",
       "</div>"
      ],
      "text/plain": [
       "               Model Name  Accuracy\n",
       "5           XGBClassifier  0.633668\n",
       "6  CatBoosting Classifier  0.632041\n",
       "2       Gradient Boosting  0.621073\n",
       "7     AdaBoost Classifier  0.611378\n",
       "4  K-Neighbors Classifier  0.596448\n",
       "0           Random Forest  0.577767\n",
       "1           Decision Tree  0.568426\n",
       "3     Logistic Regression  0.500142"
      ]
     },
     "execution_count": 32,
     "metadata": {},
     "output_type": "execute_result"
    }
   ],
   "source": [
    "base_report"
   ]
  },
  {
   "cell_type": "markdown",
   "id": "87e43a08",
   "metadata": {},
   "source": [
    "- **Here we can user CatBoost Classifier, XGBClassifier for Hyper Parameter Tuning**"
   ]
  },
  {
   "cell_type": "markdown",
   "id": "54ccef11",
   "metadata": {},
   "source": [
    "## Hyperopt: Distributed Hyperparameter Optimization\n",
    "\n",
    "- **Hyperopt is a powerful python library for hyperparameter optimization developed by James Bergstra, Hyperpot uses a form of Bayesian optimization for parameter tuning that allows you to get the best parameters for a given model.**\n",
    "- **Grid Search is exhaustive in case of Resources usage.**\n",
    "- **Random Search, is random, so could miss the most important values. However, there is a superior method available through the Hyperopt package.**\n",
    "\n",
    "#### Search space is where Hyperopt really gives you a many sampling options:\n",
    "\n",
    "- **for categorical parameters you have hp.choice**\n",
    "- **for integers you get hp.randint, hp.quniform, hp.qloguniform and hp.qlognormal**\n",
    "- **for floats we have hp.normal, hp.uniform, hp.lognormal, and hp.loguniform**\n",
    "- **It is the most extensive sampling functionality out there**\n",
    "\n",
    "**You define your search space before you run optimization but you can create very complex parameter spaces:**"
   ]
  },
  {
   "cell_type": "markdown",
   "id": "d9003522",
   "metadata": {},
   "source": [
    "## Hyperparameter Tuning for XGBoost Model\n",
    "\n",
    "**This is a function to minimize that recieves hyperparameter values as input from the search space and returns the loss**"
   ]
  },
  {
   "cell_type": "code",
   "execution_count": 33,
   "id": "2d22d1aa",
   "metadata": {},
   "outputs": [],
   "source": [
    "# Create an objective function for hyperopt\n",
    "def XGB_objective(params):\n",
    "    # Define the parameters\n",
    "#     params = {\n",
    "#         'max_depth': int(params['max_depth']),\n",
    "#         'gamma': params['gamma'],\n",
    "#         'colsample_bytree': params['colsample_bytree'],\n",
    "#         'min_child_weight': params['min_child_weight'],\n",
    "#         'n_estimators': int(params['n_estimators']),\n",
    "#         'seed': params['seed']\n",
    "#     }\n",
    "    model = XGBClassifier(**params, n_jobs=-1)\n",
    "    X_train, X_test, y_train, y_test = train_test_split(X_res, y_res, test_size=0.2, random_state=42)\n",
    "    model = model.fit(X_train, y_train)\n",
    "    y_pred = model.predict(X_test)\n",
    "    acc = accuracy_score(y_test, y_pred)\n",
    "    return acc"
   ]
  },
  {
   "cell_type": "code",
   "execution_count": 34,
   "id": "90f92a9d",
   "metadata": {},
   "outputs": [
    {
     "name": "stdout",
     "output_type": "stream",
     "text": [
      "100%|████████████████████████████████████████████████| 10/10 [04:05<00:00, 24.57s/trial, best loss: 0.6229833003113501]\n"
     ]
    }
   ],
   "source": [
    "# Define the search space\n",
    "search_space = {\n",
    "    'max_depth': scope.int(hp.quniform(\"max_depth\", 3, 10, 1)),\n",
    "    'gamma': hp.uniform ('gamma', 1, 9),\n",
    "    'colsample_bytree': hp.uniform('colsample_bytree', 0.5, 1),\n",
    "    'min_child_weight': hp.quniform('min_child_weight', 0, 10, 1),\n",
    "    'n_estimators': scope.int(hp.quniform('n_estimators', 100, 500, 10)),\n",
    "    'seed': 0\n",
    "}\n",
    "\n",
    "xgb_trials = Trials()\n",
    "\n",
    "# Using Fmin function to get best xgb_objective\n",
    "best_xgb = fmin(\n",
    "    fn = XGB_objective,\n",
    "    space=search_space,\n",
    "    algo=tpe.suggest,\n",
    "    trials=xgb_trials,\n",
    "    max_evals=10,\n",
    "    rstate=np.random.default_rng()\n",
    ")"
   ]
  },
  {
   "cell_type": "code",
   "execution_count": 35,
   "id": "d2ec3764",
   "metadata": {},
   "outputs": [
    {
     "name": "stdout",
     "output_type": "stream",
     "text": [
      "Best Hyperparameters: {'colsample_bytree': 0.8953669741910344, 'gamma': 8.266832624637509, 'max_depth': 7.0, 'min_child_weight': 3.0, 'n_estimators': 350.0}\n"
     ]
    }
   ],
   "source": [
    "print(f\"Best Hyperparameters: {best_xgb}\")"
   ]
  },
  {
   "cell_type": "markdown",
   "id": "20424bbf",
   "metadata": {},
   "source": [
    "- **XGBoost Classifier has accuracy of 61.64%**"
   ]
  },
  {
   "cell_type": "markdown",
   "id": "d8a4e3ba",
   "metadata": {},
   "source": [
    "## HyperParameter tuning for Catboost model"
   ]
  },
  {
   "cell_type": "code",
   "execution_count": 36,
   "id": "d781138a",
   "metadata": {},
   "outputs": [],
   "source": [
    "# Create an objective function for hyperopt for CatBoost\n",
    "def CatBoost_objective(params):\n",
    "    # Define the parameters\n",
    "    model = CatBoostClassifier(**params, verbose=False, thread_count=-1)\n",
    "    X_train, X_test, y_train, y_test = train_test_split(X_res, y_res, test_size=0.2, random_state=42)\n",
    "    model = model.fit(X_train, y_train)\n",
    "    y_pred = model.predict(X_test)\n",
    "    acc = accuracy_score(y_test, y_pred)\n",
    "    return acc"
   ]
  },
  {
   "cell_type": "code",
   "execution_count": 37,
   "id": "7e2e8d6a",
   "metadata": {},
   "outputs": [
    {
     "name": "stdout",
     "output_type": "stream",
     "text": [
      "100%|████████████████████████████████████████████████| 10/10 [03:48<00:00, 22.88s/trial, best loss: 0.6008349844324936]\n"
     ]
    }
   ],
   "source": [
    "# Define the search space\n",
    "search_space_cat = {\n",
    "    'learning_rate': hp.uniform(\"learning_rate\", 0.001, 1),\n",
    "    'depth': scope.int(hp.quniform ('max_depth', 2, 10, 1)),\n",
    "    'iterations': scope.int(hp.quniform('iterations', 50, 1000, 50)),\n",
    "    'l2_leaf_reg': scope.int(hp.quniform('l2_leaf_reg', 1, 50, 1))\n",
    "}\n",
    "\n",
    "cat_trials = Trials()\n",
    "\n",
    "# Using Fmin function to get best xgb_objective\n",
    "best_cat = fmin(\n",
    "    fn = CatBoost_objective,\n",
    "    space=search_space_cat,\n",
    "    algo=tpe.suggest,\n",
    "    trials=cat_trials,\n",
    "    max_evals=10,\n",
    "    rstate=np.random.default_rng()\n",
    ")"
   ]
  },
  {
   "cell_type": "code",
   "execution_count": 38,
   "id": "aaf0470f",
   "metadata": {},
   "outputs": [
    {
     "name": "stdout",
     "output_type": "stream",
     "text": [
      "Best Hyperparameters: {'iterations': 550.0, 'l2_leaf_reg': 23.0, 'learning_rate': 0.8193598907905265, 'max_depth': 10.0}\n"
     ]
    }
   ],
   "source": [
    "print(f\"Best Hyperparameters: {best_cat}\")"
   ]
  },
  {
   "cell_type": "markdown",
   "id": "228e20c4",
   "metadata": {},
   "source": [
    "- **CatBoost Classifier has accuracy of 59.20%**"
   ]
  },
  {
   "cell_type": "markdown",
   "id": "ea6b6067",
   "metadata": {},
   "source": [
    "## Final Model"
   ]
  },
  {
   "cell_type": "code",
   "execution_count": 45,
   "id": "c4f36d6b",
   "metadata": {},
   "outputs": [],
   "source": [
    "model = CatBoostClassifier(**best_cat, verbose=False, thread_count=-1)\n",
    "\n",
    "X_train, X_test, y_train, y_test = train_test_split(X_res, y_res, test_size=0.2, random_state=42)\n",
    "\n",
    "model = model.fit(X_train, y_train)\n",
    "y_pred = model.predict(X_test)\n",
    "acc = accuracy_score(y_test, y_pred)\n",
    "\n",
    "matrix = confusion_matrix(y_test, y_pred)\n",
    "cm = ConfusionMatrixDisplay(matrix)"
   ]
  },
  {
   "cell_type": "code",
   "execution_count": 46,
   "id": "d7a8e32f",
   "metadata": {},
   "outputs": [],
   "source": [
    "best_xgb['max_depth'] = int(best_xgb['max_depth'])\n",
    "best_xgb['n_estimators'] = int(best_xgb['n_estimators'])\n",
    "model_x = XGBClassifier(**best_xgb, n_jobs=-1)\n",
    "\n",
    "X_train2, X_test2, y_train2, y_test2 = train_test_split(X_res, y_res, test_size=0.2, random_state=42)\n",
    "\n",
    "model2 = model_x.fit(X_train2, y_train2)\n",
    "y_pred2 = model2.predict(X_test2)\n",
    "acc2 = accuracy_score(y_test2, y_pred2)\n",
    "\n",
    "matrix2 = confusion_matrix(y_test2, y_pred2)\n",
    "cm2 = ConfusionMatrixDisplay(matrix2)"
   ]
  },
  {
   "cell_type": "markdown",
   "id": "c2c9dd56",
   "metadata": {},
   "source": [
    "### Confusion matrix for the Final Catboost model"
   ]
  },
  {
   "cell_type": "code",
   "execution_count": 47,
   "id": "856bfc53",
   "metadata": {},
   "outputs": [
    {
     "data": {
      "text/plain": [
       "0.6008349844324936"
      ]
     },
     "execution_count": 47,
     "metadata": {},
     "output_type": "execute_result"
    }
   ],
   "source": [
    "acc"
   ]
  },
  {
   "cell_type": "code",
   "execution_count": 48,
   "id": "ed8c4e23",
   "metadata": {},
   "outputs": [
    {
     "data": {
      "text/plain": [
       "<sklearn.metrics._plot.confusion_matrix.ConfusionMatrixDisplay at 0x2a84774e250>"
      ]
     },
     "execution_count": 48,
     "metadata": {},
     "output_type": "execute_result"
    },
    {
     "data": {
      "image/png": "[encoded data removed]",
      "text/plain": [
       "<Figure size 432x288 with 2 Axes>"
      ]
     },
     "metadata": {
      "needs_background": "light"
     },
     "output_type": "display_data"
    }
   ],
   "source": [
    "cm.plot()"
   ]
  },
  {
   "cell_type": "markdown",
   "id": "ca1825cd",
   "metadata": {},
   "source": [
    "### Confusion matrix for the Final XGBoost model"
   ]
  },
  {
   "cell_type": "code",
   "execution_count": 49,
   "id": "b950ccc4",
   "metadata": {},
   "outputs": [
    {
     "data": {
      "text/plain": [
       "0.6229833003113501"
      ]
     },
     "execution_count": 49,
     "metadata": {},
     "output_type": "execute_result"
    }
   ],
   "source": [
    "acc2"
   ]
  },
  {
   "cell_type": "code",
   "execution_count": 50,
   "id": "3ac1e44e",
   "metadata": {},
   "outputs": [
    {
     "data": {
      "text/plain": [
       "<sklearn.metrics._plot.confusion_matrix.ConfusionMatrixDisplay at 0x2a856a73940>"
      ]
     },
     "execution_count": 50,
     "metadata": {},
     "output_type": "execute_result"
    },
    {
     "data": {
      "image/png": "[encoded data removed]",
      "text/plain": [
       "<Figure size 432x288 with 2 Axes>"
      ]
     },
     "metadata": {
      "needs_background": "light"
     },
     "output_type": "display_data"
    }
   ],
   "source": [
    "cm2.plot()"
   ]
  },
  {
   "cell_type": "markdown",
   "id": "c15b7df0",
   "metadata": {},
   "source": [
    "# The Best model is XGBoost with a accuracy of 62.29%"
   ]
  },
  {
   "cell_type": "code",
   "execution_count": null,
   "id": "f00939c6",
   "metadata": {},
   "outputs": [],
   "source": []
  }
 ],
 "metadata": {
  "kernelspec": {
   "display_name": "Python 3 (ipykernel)",
   "language": "python",
   "name": "python3"
  },
  "language_info": {
   "codemirror_mode": {
    "name": "ipython",
    "version": 3
   },
   "file_extension": ".py",
   "mimetype": "text/x-python",
   "name": "python",
   "nbconvert_exporter": "python",
   "pygments_lexer": "ipython3",
   "version": "3.9.12"
  }
 },
 "nbformat": 4,
 "nbformat_minor": 5
}
