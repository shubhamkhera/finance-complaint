{
 "cells": [
  {
   "cell_type": "code",
   "execution_count": 3,
   "id": "ca0e237f",
   "metadata": {},
   "outputs": [],
   "source": [
    "def freq_test(n_diff_days):\n",
    "    freq = None\n",
    "    if n_diff_days > 365:\n",
    "        freq = \"Y\"\n",
    "    elif n_diff_days > 30:\n",
    "        freq = \"M\"\n",
    "    elif n_diff_days > 7:\n",
    "        freq = \"W\"\n",
    "    return freq"
   ]
  },
  {
   "cell_type": "code",
   "execution_count": 5,
   "id": "b95b553b",
   "metadata": {},
   "outputs": [
    {
     "data": {
      "text/plain": [
       "'M'"
      ]
     },
     "execution_count": 5,
     "metadata": {},
     "output_type": "execute_result"
    }
   ],
   "source": [
    "freq_test(364)"
   ]
  },
  {
   "cell_type": "code",
   "execution_count": 19,
   "id": "70645917",
   "metadata": {},
   "outputs": [],
   "source": [
    "from datetime import datetime\n",
    "import pandas as pd\n",
    "\n",
    "def get_required_interval():\n",
    "    start_date = datetime.strptime(\"2019-01-01\", \"%Y-%m-%d\")\n",
    "    end_date = datetime.strptime(\"2023-12-01\", \"%Y-%m-%d\")\n",
    "    n_diff_days = (end_date - start_date).days\n",
    "    print(f\"n_diff_day : {n_diff_days}\")\n",
    "    freq = None\n",
    "    if n_diff_days > 365:\n",
    "        freq = \"Y\"\n",
    "    elif n_diff_days > 30:\n",
    "        freq = \"M\"\n",
    "    elif n_diff_days > 7:\n",
    "        freq = \"W\"\n",
    "    print(f\"{n_diff_days} hence freq: {freq}\")\n",
    "    if freq is None:\n",
    "        intervals = pd.date_range(start=\"2019-01-01\",\n",
    "                                  end=\"2023-12-01\",\n",
    "                                  periods=2).astype('str').to_list()\n",
    "    else:\n",
    "        intervals = pd.date_range(start=\"2019-01-01\",\n",
    "                                  end=\"2023-12-01\",\n",
    "                                  freq=freq).astype('str').to_list()\n",
    "    print(f\"Prepared Interval: {intervals}\")\n",
    "    if \"2023-12-01\" not in intervals:\n",
    "        intervals.append(\"2013-12-01\")\n",
    "    return intervals"
   ]
  },
  {
   "cell_type": "code",
   "execution_count": 20,
   "id": "039dc0ac",
   "metadata": {},
   "outputs": [
    {
     "name": "stdout",
     "output_type": "stream",
     "text": [
      "n_diff_day : 1795\n",
      "1795 hence freq: Y\n",
      "Prepared Interval: ['2019-12-31', '2020-12-31', '2021-12-31', '2022-12-31']\n"
     ]
    },
    {
     "data": {
      "text/plain": [
       "['2019-12-31', '2020-12-31', '2021-12-31', '2022-12-31', '2013-12-01']"
      ]
     },
     "execution_count": 20,
     "metadata": {},
     "output_type": "execute_result"
    }
   ],
   "source": [
    "get_required_interval()"
   ]
  },
  {
   "cell_type": "code",
   "execution_count": null,
   "id": "dab3ba61",
   "metadata": {},
   "outputs": [],
   "source": []
  }
 ],
 "metadata": {
  "kernelspec": {
   "display_name": "Python 3 (ipykernel)",
   "language": "python",
   "name": "python3"
  },
  "language_info": {
   "codemirror_mode": {
    "name": "ipython",
    "version": 3
   },
   "file_extension": ".py",
   "mimetype": "text/x-python",
   "name": "python",
   "nbconvert_exporter": "python",
   "pygments_lexer": "ipython3",
   "version": "3.9.12"
  }
 },
 "nbformat": 4,
 "nbformat_minor": 5
}
